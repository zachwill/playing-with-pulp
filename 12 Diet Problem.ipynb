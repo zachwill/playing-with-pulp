{
 "cells": [
  {
   "cell_type": "markdown",
   "metadata": {},
   "source": [
    "__Diet Problem__\n",
    "\n",
    "https://web.mit.edu/15.053/www/Excel_Solver.pdf"
   ]
  },
  {
   "cell_type": "code",
   "execution_count": 1,
   "metadata": {},
   "outputs": [],
   "source": [
    "import pandas as pd\n",
    "\n",
    "from pulp import LpProblem, LpStatus, LpVariable, LpAffineExpression\n",
    "from pulp import LpBinary, LpMinimize, LpMaximize, lpSum, value"
   ]
  },
  {
   "cell_type": "code",
   "execution_count": 2,
   "metadata": {},
   "outputs": [
    {
     "data": {
      "text/html": [
       "<div>\n",
       "<style scoped>\n",
       "    .dataframe tbody tr th:only-of-type {\n",
       "        vertical-align: middle;\n",
       "    }\n",
       "\n",
       "    .dataframe tbody tr th {\n",
       "        vertical-align: top;\n",
       "    }\n",
       "\n",
       "    .dataframe thead th {\n",
       "        text-align: right;\n",
       "    }\n",
       "</style>\n",
       "<table border=\"1\" class=\"dataframe\">\n",
       "  <thead>\n",
       "    <tr style=\"text-align: right;\">\n",
       "      <th></th>\n",
       "      <th>food</th>\n",
       "      <th>calories</th>\n",
       "      <th>chocolate</th>\n",
       "      <th>sugar</th>\n",
       "      <th>fat</th>\n",
       "      <th>cost</th>\n",
       "    </tr>\n",
       "  </thead>\n",
       "  <tbody>\n",
       "    <tr>\n",
       "      <th>0</th>\n",
       "      <td>Brownie</td>\n",
       "      <td>400</td>\n",
       "      <td>3</td>\n",
       "      <td>2</td>\n",
       "      <td>2</td>\n",
       "      <td>0.5</td>\n",
       "    </tr>\n",
       "    <tr>\n",
       "      <th>1</th>\n",
       "      <td>Ice Cream</td>\n",
       "      <td>200</td>\n",
       "      <td>2</td>\n",
       "      <td>2</td>\n",
       "      <td>4</td>\n",
       "      <td>0.2</td>\n",
       "    </tr>\n",
       "    <tr>\n",
       "      <th>2</th>\n",
       "      <td>Cola</td>\n",
       "      <td>150</td>\n",
       "      <td>0</td>\n",
       "      <td>4</td>\n",
       "      <td>1</td>\n",
       "      <td>0.3</td>\n",
       "    </tr>\n",
       "    <tr>\n",
       "      <th>3</th>\n",
       "      <td>Cheesecake</td>\n",
       "      <td>500</td>\n",
       "      <td>0</td>\n",
       "      <td>4</td>\n",
       "      <td>5</td>\n",
       "      <td>0.8</td>\n",
       "    </tr>\n",
       "  </tbody>\n",
       "</table>\n",
       "</div>"
      ],
      "text/plain": [
       "         food  calories  chocolate  sugar  fat  cost\n",
       "0     Brownie       400          3      2    2   0.5\n",
       "1   Ice Cream       200          2      2    4   0.2\n",
       "2        Cola       150          0      4    1   0.3\n",
       "3  Cheesecake       500          0      4    5   0.8"
      ]
     },
     "execution_count": 2,
     "metadata": {},
     "output_type": "execute_result"
    }
   ],
   "source": [
    "df = pd.DataFrame(\n",
    "    [\n",
    "        [\"Brownie\", 400, 3, 2, 2, 0.50],\n",
    "        [\"Ice Cream\", 200, 2, 2, 4, 0.20],\n",
    "        [\"Cola\", 150, 0, 4, 1, 0.30],\n",
    "        [\"Cheesecake\", 500, 0, 4, 5, 0.80],\n",
    "    ],\n",
    "    columns=[\"food\", \"calories\", \"chocolate\", \"sugar\", \"fat\", \"cost\"],\n",
    ")\n",
    "\n",
    "df"
   ]
  },
  {
   "cell_type": "code",
   "execution_count": 3,
   "metadata": {},
   "outputs": [],
   "source": [
    "calories = dict(zip(df.food, df.calories))\n",
    "chocolate = dict(zip(df.food, df.chocolate))\n",
    "sugar = dict(zip(df.food, df.sugar))\n",
    "fat = dict(zip(df.food, df.fat))\n",
    "cost = dict(zip(df.food, df.cost))\n",
    "\n",
    "food_vars = LpVariable.dict(\"food_vars\", df.food.values, lowBound=0, cat=\"Integer\")"
   ]
  },
  {
   "cell_type": "code",
   "execution_count": 4,
   "metadata": {},
   "outputs": [],
   "source": [
    "model = LpProblem(\"Diet\", LpMinimize)\n",
    "\n",
    "# Objective function\n",
    "model += lpSum([cost[food] * food_vars[food] for food in df.food])\n",
    "\n",
    "# Constraints\n",
    "model += (\n",
    "    lpSum([calories[food] * food_vars[food] for food in df.food]) >= 500,\n",
    "    \"calories\",\n",
    ")\n",
    "model += (\n",
    "    lpSum([chocolate[food] * food_vars[food] for food in df.food]) >= 6,\n",
    "    \"chocolate\",\n",
    ")\n",
    "model += (\n",
    "    lpSum([sugar[food] * food_vars[food] for food in df.food]) >= 10,\n",
    "    \"sugar\",\n",
    ")\n",
    "model += lpSum([fat[food] * food_vars[food] for food in df.food]) >= 8, \"fat\""
   ]
  },
  {
   "cell_type": "code",
   "execution_count": 5,
   "metadata": {},
   "outputs": [
    {
     "data": {
      "text/plain": [
       "'Optimal'"
      ]
     },
     "execution_count": 5,
     "metadata": {},
     "output_type": "execute_result"
    }
   ],
   "source": [
    "results = model.solve()\n",
    "\n",
    "LpStatus[model.status]"
   ]
  },
  {
   "cell_type": "code",
   "execution_count": 6,
   "metadata": {},
   "outputs": [
    {
     "data": {
      "text/html": [
       "<div>\n",
       "<style scoped>\n",
       "    .dataframe tbody tr th:only-of-type {\n",
       "        vertical-align: middle;\n",
       "    }\n",
       "\n",
       "    .dataframe tbody tr th {\n",
       "        vertical-align: top;\n",
       "    }\n",
       "\n",
       "    .dataframe thead th {\n",
       "        text-align: right;\n",
       "    }\n",
       "</style>\n",
       "<table border=\"1\" class=\"dataframe\">\n",
       "  <thead>\n",
       "    <tr style=\"text-align: right;\">\n",
       "      <th></th>\n",
       "      <th>food</th>\n",
       "      <th>calories</th>\n",
       "      <th>cost</th>\n",
       "      <th>should_eat</th>\n",
       "    </tr>\n",
       "  </thead>\n",
       "  <tbody>\n",
       "    <tr>\n",
       "      <th>0</th>\n",
       "      <td>Brownie</td>\n",
       "      <td>400</td>\n",
       "      <td>0.5</td>\n",
       "      <td>0.0</td>\n",
       "    </tr>\n",
       "    <tr>\n",
       "      <th>1</th>\n",
       "      <td>Ice Cream</td>\n",
       "      <td>200</td>\n",
       "      <td>0.2</td>\n",
       "      <td>3.0</td>\n",
       "    </tr>\n",
       "    <tr>\n",
       "      <th>2</th>\n",
       "      <td>Cola</td>\n",
       "      <td>150</td>\n",
       "      <td>0.3</td>\n",
       "      <td>1.0</td>\n",
       "    </tr>\n",
       "    <tr>\n",
       "      <th>3</th>\n",
       "      <td>Cheesecake</td>\n",
       "      <td>500</td>\n",
       "      <td>0.8</td>\n",
       "      <td>0.0</td>\n",
       "    </tr>\n",
       "  </tbody>\n",
       "</table>\n",
       "</div>"
      ],
      "text/plain": [
       "         food  calories  cost  should_eat\n",
       "0     Brownie       400   0.5         0.0\n",
       "1   Ice Cream       200   0.2         3.0\n",
       "2        Cola       150   0.3         1.0\n",
       "3  Cheesecake       500   0.8         0.0"
      ]
     },
     "execution_count": 6,
     "metadata": {},
     "output_type": "execute_result"
    }
   ],
   "source": [
    "output = df[[\"food\", \"calories\", \"cost\"]].copy()\n",
    "output[\"should_eat\"] = [food_vars[food].value() for food in df.food]\n",
    "\n",
    "output"
   ]
  },
  {
   "cell_type": "code",
   "execution_count": 7,
   "metadata": {},
   "outputs": [
    {
     "data": {
      "text/plain": [
       "750.0"
      ]
     },
     "execution_count": 7,
     "metadata": {},
     "output_type": "execute_result"
    }
   ],
   "source": [
    "(output.should_eat * output.calories).sum()"
   ]
  },
  {
   "cell_type": "code",
   "execution_count": 8,
   "metadata": {},
   "outputs": [
    {
     "data": {
      "text/plain": [
       "0.9"
      ]
     },
     "execution_count": 8,
     "metadata": {},
     "output_type": "execute_result"
    }
   ],
   "source": [
    "(output.should_eat * output.cost).sum().round(2)"
   ]
  }
 ],
 "metadata": {
  "kernelspec": {
   "display_name": "Python 3",
   "language": "python",
   "name": "python3"
  },
  "language_info": {
   "codemirror_mode": {
    "name": "ipython",
    "version": 3
   },
   "file_extension": ".py",
   "mimetype": "text/x-python",
   "name": "python",
   "nbconvert_exporter": "python",
   "pygments_lexer": "ipython3",
   "version": "3.7.7"
  }
 },
 "nbformat": 4,
 "nbformat_minor": 2
}
