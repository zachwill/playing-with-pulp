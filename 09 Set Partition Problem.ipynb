{
 "cells": [
  {
   "cell_type": "markdown",
   "metadata": {},
   "source": [
    "https://coin-or.github.io/pulp/CaseStudies/a_set_partitioning_problem.html"
   ]
  },
  {
   "cell_type": "code",
   "execution_count": 1,
   "metadata": {},
   "outputs": [
    {
     "data": {
      "application/javascript": [
       "\n",
       "            setTimeout(function() {\n",
       "                var nbb_cell_id = 1;\n",
       "                var nbb_unformatted_code = \"%load_ext nb_black\\n\\nimport pandas as pd\\n\\nfrom pulp import LpProblem, LpStatus, LpVariable, lpSum, value, allcombinations\\nfrom pulp import LpBinary, LpMinimize, LpMaximize\";\n",
       "                var nbb_formatted_code = \"%load_ext nb_black\\n\\nimport pandas as pd\\n\\nfrom pulp import LpProblem, LpStatus, LpVariable, lpSum, value, allcombinations\\nfrom pulp import LpBinary, LpMinimize, LpMaximize\";\n",
       "                var nbb_cells = Jupyter.notebook.get_cells();\n",
       "                for (var i = 0; i < nbb_cells.length; ++i) {\n",
       "                    if (nbb_cells[i].input_prompt_number == nbb_cell_id) {\n",
       "                        if (nbb_cells[i].get_text() == nbb_unformatted_code) {\n",
       "                             nbb_cells[i].set_text(nbb_formatted_code);\n",
       "                        }\n",
       "                        break;\n",
       "                    }\n",
       "                }\n",
       "            }, 500);\n",
       "            "
      ],
      "text/plain": [
       "<IPython.core.display.Javascript object>"
      ]
     },
     "metadata": {},
     "output_type": "display_data"
    }
   ],
   "source": [
    "%load_ext nb_black\n",
    "\n",
    "import pandas as pd\n",
    "\n",
    "from pulp import LpProblem, LpStatus, LpVariable, lpSum, value, allcombinations\n",
    "from pulp import LpBinary, LpMinimize, LpMaximize"
   ]
  },
  {
   "cell_type": "code",
   "execution_count": 2,
   "metadata": {},
   "outputs": [
    {
     "data": {
      "application/javascript": [
       "\n",
       "            setTimeout(function() {\n",
       "                var nbb_cell_id = 2;\n",
       "                var nbb_unformatted_code = \"MAX_TABLES = 5\\nMAX_TABLE_SIZE = 4\\nGUESTS = \\\"A B C D E F G I J K L M N O P Q R\\\".split()\";\n",
       "                var nbb_formatted_code = \"MAX_TABLES = 5\\nMAX_TABLE_SIZE = 4\\nGUESTS = \\\"A B C D E F G I J K L M N O P Q R\\\".split()\";\n",
       "                var nbb_cells = Jupyter.notebook.get_cells();\n",
       "                for (var i = 0; i < nbb_cells.length; ++i) {\n",
       "                    if (nbb_cells[i].input_prompt_number == nbb_cell_id) {\n",
       "                        if (nbb_cells[i].get_text() == nbb_unformatted_code) {\n",
       "                             nbb_cells[i].set_text(nbb_formatted_code);\n",
       "                        }\n",
       "                        break;\n",
       "                    }\n",
       "                }\n",
       "            }, 500);\n",
       "            "
      ],
      "text/plain": [
       "<IPython.core.display.Javascript object>"
      ]
     },
     "metadata": {},
     "output_type": "display_data"
    }
   ],
   "source": [
    "MAX_TABLES = 5\n",
    "MAX_TABLE_SIZE = 4\n",
    "GUESTS = \"A B C D E F G I J K L M N O P Q R\".split()"
   ]
  },
  {
   "cell_type": "code",
   "execution_count": 3,
   "metadata": {},
   "outputs": [
    {
     "data": {
      "application/javascript": [
       "\n",
       "            setTimeout(function() {\n",
       "                var nbb_cell_id = 3;\n",
       "                var nbb_unformatted_code = \"def happiness(table):\\n    \\\"\\\"\\\"\\n    Find the happiness of the table\\n    - by calculating the maximum distance between the letters\\n    \\\"\\\"\\\"\\n    return abs(ord(table[0]) - ord(table[-1]))\";\n",
       "                var nbb_formatted_code = \"def happiness(table):\\n    \\\"\\\"\\\"\\n    Find the happiness of the table\\n    - by calculating the maximum distance between the letters\\n    \\\"\\\"\\\"\\n    return abs(ord(table[0]) - ord(table[-1]))\";\n",
       "                var nbb_cells = Jupyter.notebook.get_cells();\n",
       "                for (var i = 0; i < nbb_cells.length; ++i) {\n",
       "                    if (nbb_cells[i].input_prompt_number == nbb_cell_id) {\n",
       "                        if (nbb_cells[i].get_text() == nbb_unformatted_code) {\n",
       "                             nbb_cells[i].set_text(nbb_formatted_code);\n",
       "                        }\n",
       "                        break;\n",
       "                    }\n",
       "                }\n",
       "            }, 500);\n",
       "            "
      ],
      "text/plain": [
       "<IPython.core.display.Javascript object>"
      ]
     },
     "metadata": {},
     "output_type": "display_data"
    }
   ],
   "source": [
    "def happiness(table):\n",
    "    \"\"\"\n",
    "    Find the happiness of the table\n",
    "    - by calculating the maximum distance between the letters\n",
    "    \"\"\"\n",
    "    return abs(ord(table[0]) - ord(table[-1]))"
   ]
  },
  {
   "cell_type": "code",
   "execution_count": 4,
   "metadata": {},
   "outputs": [
    {
     "data": {
      "application/javascript": [
       "\n",
       "            setTimeout(function() {\n",
       "                var nbb_cell_id = 4;\n",
       "                var nbb_unformatted_code = \"# create list of all possible tables\\nGUEST_COMBINATIONS = [tuple(c) for c in allcombinations(GUESTS, MAX_TABLE_SIZE)]\";\n",
       "                var nbb_formatted_code = \"# create list of all possible tables\\nGUEST_COMBINATIONS = [tuple(c) for c in allcombinations(GUESTS, MAX_TABLE_SIZE)]\";\n",
       "                var nbb_cells = Jupyter.notebook.get_cells();\n",
       "                for (var i = 0; i < nbb_cells.length; ++i) {\n",
       "                    if (nbb_cells[i].input_prompt_number == nbb_cell_id) {\n",
       "                        if (nbb_cells[i].get_text() == nbb_unformatted_code) {\n",
       "                             nbb_cells[i].set_text(nbb_formatted_code);\n",
       "                        }\n",
       "                        break;\n",
       "                    }\n",
       "                }\n",
       "            }, 500);\n",
       "            "
      ],
      "text/plain": [
       "<IPython.core.display.Javascript object>"
      ]
     },
     "metadata": {},
     "output_type": "display_data"
    }
   ],
   "source": [
    "# create list of all possible tables\n",
    "GUEST_COMBINATIONS = [tuple(c) for c in allcombinations(GUESTS, MAX_TABLE_SIZE)]"
   ]
  },
  {
   "cell_type": "code",
   "execution_count": 5,
   "metadata": {},
   "outputs": [
    {
     "data": {
      "application/javascript": [
       "\n",
       "            setTimeout(function() {\n",
       "                var nbb_cell_id = 5;\n",
       "                var nbb_unformatted_code = \"# create a binary variable to state that a table setting is used\\ntables = LpVariable.dicts(\\n    \\\"table\\\", GUEST_COMBINATIONS, lowBound=0, upBound=1, cat=\\\"Integer\\\"\\n)\";\n",
       "                var nbb_formatted_code = \"# create a binary variable to state that a table setting is used\\ntables = LpVariable.dicts(\\n    \\\"table\\\", GUEST_COMBINATIONS, lowBound=0, upBound=1, cat=\\\"Integer\\\"\\n)\";\n",
       "                var nbb_cells = Jupyter.notebook.get_cells();\n",
       "                for (var i = 0; i < nbb_cells.length; ++i) {\n",
       "                    if (nbb_cells[i].input_prompt_number == nbb_cell_id) {\n",
       "                        if (nbb_cells[i].get_text() == nbb_unformatted_code) {\n",
       "                             nbb_cells[i].set_text(nbb_formatted_code);\n",
       "                        }\n",
       "                        break;\n",
       "                    }\n",
       "                }\n",
       "            }, 500);\n",
       "            "
      ],
      "text/plain": [
       "<IPython.core.display.Javascript object>"
      ]
     },
     "metadata": {},
     "output_type": "display_data"
    }
   ],
   "source": [
    "# create a binary variable to state that a table setting is used\n",
    "tables = LpVariable.dicts(\n",
    "    \"table\", GUEST_COMBINATIONS, lowBound=0, upBound=1, cat=\"Integer\"\n",
    ")"
   ]
  },
  {
   "cell_type": "code",
   "execution_count": 6,
   "metadata": {},
   "outputs": [
    {
     "name": "stderr",
     "output_type": "stream",
     "text": [
      "/usr/local/lib/python3.7/site-packages/pulp/pulp.py:1137: UserWarning: Spaces are not permitted in the name. Converted to '_'\n",
      "  warnings.warn(\"Spaces are not permitted in the name. Converted to '_'\")\n"
     ]
    },
    {
     "data": {
      "application/javascript": [
       "\n",
       "            setTimeout(function() {\n",
       "                var nbb_cell_id = 6;\n",
       "                var nbb_unformatted_code = \"model = LpProblem(\\\"Wedding Seating Model\\\", LpMaximize)\\n\\nmodel += lpSum([happiness(combo) * tables[combo] for combo in GUEST_COMBINATIONS])\\n\\n# specify the maximum number of tables\\nmodel += (\\n    lpSum([tables[combo] for combo in GUEST_COMBINATIONS]) <= MAX_TABLES,\\n    \\\"Maximum_number_of_tables\\\",\\n)\\n\\n# A guest must seated at one and only one table\\nfor guest in GUESTS:\\n    model += (\\n        lpSum([tables[combo] for combo in GUEST_COMBINATIONS if guest in combo]) == 1,\\n        \\\"Must_seat_%s\\\" % guest,\\n    )\";\n",
       "                var nbb_formatted_code = \"model = LpProblem(\\\"Wedding Seating Model\\\", LpMaximize)\\n\\nmodel += lpSum([happiness(combo) * tables[combo] for combo in GUEST_COMBINATIONS])\\n\\n# specify the maximum number of tables\\nmodel += (\\n    lpSum([tables[combo] for combo in GUEST_COMBINATIONS]) <= MAX_TABLES,\\n    \\\"Maximum_number_of_tables\\\",\\n)\\n\\n# A guest must seated at one and only one table\\nfor guest in GUESTS:\\n    model += (\\n        lpSum([tables[combo] for combo in GUEST_COMBINATIONS if guest in combo]) == 1,\\n        \\\"Must_seat_%s\\\" % guest,\\n    )\";\n",
       "                var nbb_cells = Jupyter.notebook.get_cells();\n",
       "                for (var i = 0; i < nbb_cells.length; ++i) {\n",
       "                    if (nbb_cells[i].input_prompt_number == nbb_cell_id) {\n",
       "                        if (nbb_cells[i].get_text() == nbb_unformatted_code) {\n",
       "                             nbb_cells[i].set_text(nbb_formatted_code);\n",
       "                        }\n",
       "                        break;\n",
       "                    }\n",
       "                }\n",
       "            }, 500);\n",
       "            "
      ],
      "text/plain": [
       "<IPython.core.display.Javascript object>"
      ]
     },
     "metadata": {},
     "output_type": "display_data"
    }
   ],
   "source": [
    "model = LpProblem(\"Wedding Seating Model\", LpMaximize)\n",
    "\n",
    "model += lpSum([happiness(combo) * tables[combo] for combo in GUEST_COMBINATIONS])\n",
    "\n",
    "# specify the maximum number of tables\n",
    "model += (\n",
    "    lpSum([tables[combo] for combo in GUEST_COMBINATIONS]) <= MAX_TABLES,\n",
    "    \"Maximum_number_of_tables\",\n",
    ")\n",
    "\n",
    "# A guest must seated at one and only one table\n",
    "for guest in GUESTS:\n",
    "    model += (\n",
    "        lpSum([tables[combo] for combo in GUEST_COMBINATIONS if guest in combo]) == 1,\n",
    "        \"Must_seat_%s\" % guest,\n",
    "    )"
   ]
  },
  {
   "cell_type": "code",
   "execution_count": 7,
   "metadata": {},
   "outputs": [
    {
     "data": {
      "text/plain": [
       "'Optimal'"
      ]
     },
     "execution_count": 7,
     "metadata": {},
     "output_type": "execute_result"
    },
    {
     "data": {
      "application/javascript": [
       "\n",
       "            setTimeout(function() {\n",
       "                var nbb_cell_id = 7;\n",
       "                var nbb_unformatted_code = \"model.solve()\\n\\nLpStatus[model.status]\";\n",
       "                var nbb_formatted_code = \"model.solve()\\n\\nLpStatus[model.status]\";\n",
       "                var nbb_cells = Jupyter.notebook.get_cells();\n",
       "                for (var i = 0; i < nbb_cells.length; ++i) {\n",
       "                    if (nbb_cells[i].input_prompt_number == nbb_cell_id) {\n",
       "                        if (nbb_cells[i].get_text() == nbb_unformatted_code) {\n",
       "                             nbb_cells[i].set_text(nbb_formatted_code);\n",
       "                        }\n",
       "                        break;\n",
       "                    }\n",
       "                }\n",
       "            }, 500);\n",
       "            "
      ],
      "text/plain": [
       "<IPython.core.display.Javascript object>"
      ]
     },
     "metadata": {},
     "output_type": "display_data"
    }
   ],
   "source": [
    "model.solve()\n",
    "\n",
    "LpStatus[model.status]"
   ]
  },
  {
   "cell_type": "code",
   "execution_count": 8,
   "metadata": {},
   "outputs": [
    {
     "name": "stdout",
     "output_type": "stream",
     "text": [
      "The choosen tables are out of a total of 3213:\n",
      "('A', 'M', 'Q')\n",
      "('B', 'F', 'P')\n",
      "('C', 'L', 'R')\n",
      "('D', 'G', 'J', 'N')\n",
      "('E', 'I', 'K', 'O')\n"
     ]
    },
    {
     "data": {
      "application/javascript": [
       "\n",
       "            setTimeout(function() {\n",
       "                var nbb_cell_id = 8;\n",
       "                var nbb_unformatted_code = \"print(\\\"The choosen tables are out of a total of %s:\\\" % len(GUEST_COMBINATIONS))\\nfor guests in GUEST_COMBINATIONS:\\n    if tables[guests].varValue == 1.0:\\n        print(guests)\";\n",
       "                var nbb_formatted_code = \"print(\\\"The choosen tables are out of a total of %s:\\\" % len(GUEST_COMBINATIONS))\\nfor guests in GUEST_COMBINATIONS:\\n    if tables[guests].varValue == 1.0:\\n        print(guests)\";\n",
       "                var nbb_cells = Jupyter.notebook.get_cells();\n",
       "                for (var i = 0; i < nbb_cells.length; ++i) {\n",
       "                    if (nbb_cells[i].input_prompt_number == nbb_cell_id) {\n",
       "                        if (nbb_cells[i].get_text() == nbb_unformatted_code) {\n",
       "                             nbb_cells[i].set_text(nbb_formatted_code);\n",
       "                        }\n",
       "                        break;\n",
       "                    }\n",
       "                }\n",
       "            }, 500);\n",
       "            "
      ],
      "text/plain": [
       "<IPython.core.display.Javascript object>"
      ]
     },
     "metadata": {},
     "output_type": "display_data"
    }
   ],
   "source": [
    "print(\"The choosen tables are out of a total of %s:\" % len(GUEST_COMBINATIONS))\n",
    "for guests in GUEST_COMBINATIONS:\n",
    "    if tables[guests].varValue == 1.0:\n",
    "        print(guests)"
   ]
  }
 ],
 "metadata": {
  "kernelspec": {
   "display_name": "Python 3",
   "language": "python",
   "name": "python3"
  },
  "language_info": {
   "codemirror_mode": {
    "name": "ipython",
    "version": 3
   },
   "file_extension": ".py",
   "mimetype": "text/x-python",
   "name": "python",
   "nbconvert_exporter": "python",
   "pygments_lexer": "ipython3",
   "version": "3.7.7"
  }
 },
 "nbformat": 4,
 "nbformat_minor": 2
}
