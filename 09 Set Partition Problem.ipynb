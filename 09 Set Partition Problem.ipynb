{
 "cells": [
  {
   "cell_type": "markdown",
   "metadata": {},
   "source": [
    "https://coin-or.github.io/pulp/CaseStudies/a_set_partitioning_problem.html"
   ]
  },
  {
   "cell_type": "code",
   "execution_count": 1,
   "metadata": {},
   "outputs": [],
   "source": [
    "import pandas as pd\n",
    "\n",
    "from pulp import LpProblem, LpStatus, LpVariable, lpSum, value, allcombinations\n",
    "from pulp import LpBinary, LpMinimize, LpMaximize"
   ]
  },
  {
   "cell_type": "code",
   "execution_count": 2,
   "metadata": {},
   "outputs": [],
   "source": [
    "MAX_NUMBER_OF_TABLES = 8\n",
    "\n",
    "MIN_TABLE_SIZE = 2\n",
    "MAX_TABLE_SIZE = 4\n",
    "\n",
    "GUESTS = \"A B C D E F G H I J K L M N O P Q R S T U V W X Y Z\".split()"
   ]
  },
  {
   "cell_type": "code",
   "execution_count": 3,
   "metadata": {},
   "outputs": [],
   "source": [
    "# Create list of all possible tables -- with at least two guests to a table\n",
    "GUEST_COMBINATIONS = [\n",
    "    tuple(combo)\n",
    "    for combo in allcombinations(GUESTS, MAX_TABLE_SIZE)\n",
    "    if len(combo) >= MIN_TABLE_SIZE\n",
    "]"
   ]
  },
  {
   "cell_type": "code",
   "execution_count": 4,
   "metadata": {},
   "outputs": [],
   "source": [
    "# Create a binary variable to state that a table setting is used\n",
    "tables = LpVariable.dicts(\n",
    "    \"tables\", GUEST_COMBINATIONS, lowBound=0, upBound=1, cat=\"Integer\"\n",
    ")"
   ]
  },
  {
   "cell_type": "code",
   "execution_count": 5,
   "metadata": {},
   "outputs": [],
   "source": [
    "model = LpProblem(\"Wedding_Seating_Model\", LpMaximize)"
   ]
  },
  {
   "cell_type": "code",
   "execution_count": 6,
   "metadata": {},
   "outputs": [],
   "source": [
    "def group_diversity(table):\n",
    "    \"\"\"\n",
    "    Find the happiness of the table\n",
    "    - by calculating the maximum distance between the letters\n",
    "    \"\"\"\n",
    "    value = 0\n",
    "    for combo in allcombinations(table, 2):\n",
    "        value += abs(ord(combo[0]) - ord(combo[-1]))\n",
    "    return value"
   ]
  },
  {
   "cell_type": "code",
   "execution_count": 7,
   "metadata": {},
   "outputs": [],
   "source": [
    "# ---\n",
    "# Objective function\n",
    "# ---\n",
    "model += lpSum([group_diversity(combo) * tables[combo] for combo in GUEST_COMBINATIONS])\n",
    "\n",
    "# ---\n",
    "# Constraints\n",
    "# ---\n",
    "\n",
    "# Specify the maximum number of tables\n",
    "model += (\n",
    "    lpSum([tables[combo] for combo in GUEST_COMBINATIONS]) <= MAX_NUMBER_OF_TABLES,\n",
    "    \"Maximum number of tables\",\n",
    ")\n",
    "\n",
    "# A guest must seated at one and only one table\n",
    "for guest in GUESTS:\n",
    "    model += (\n",
    "        lpSum([tables[combo] for combo in GUEST_COMBINATIONS if guest in combo]) == 1,\n",
    "        f\"Must seat {guest}\",\n",
    "    )"
   ]
  },
  {
   "cell_type": "code",
   "execution_count": 8,
   "metadata": {},
   "outputs": [
    {
     "data": {
      "text/plain": [
       "'Optimal'"
      ]
     },
     "execution_count": 8,
     "metadata": {},
     "output_type": "execute_result"
    }
   ],
   "source": [
    "model.solve()\n",
    "\n",
    "LpStatus[model.status]"
   ]
  },
  {
   "cell_type": "code",
   "execution_count": 9,
   "metadata": {},
   "outputs": [
    {
     "data": {
      "text/plain": [
       "409.0"
      ]
     },
     "execution_count": 9,
     "metadata": {},
     "output_type": "execute_result"
    }
   ],
   "source": [
    "value(model.objective)"
   ]
  },
  {
   "cell_type": "code",
   "execution_count": 10,
   "metadata": {},
   "outputs": [
    {
     "name": "stdout",
     "output_type": "stream",
     "text": [
      "The choosen tables are out of a total of 17875:\n",
      "('G', 'Q')\n",
      "('A', 'J', 'N', 'X')\n",
      "('B', 'I', 'R', 'W')\n",
      "('C', 'L', 'T', 'V')\n",
      "('D', 'M', 'P', 'Y')\n",
      "('E', 'H', 'O', 'U')\n",
      "('F', 'K', 'S', 'Z')\n"
     ]
    }
   ],
   "source": [
    "print(\"The choosen tables are out of a total of %s:\" % len(GUEST_COMBINATIONS))\n",
    "for guests in GUEST_COMBINATIONS:\n",
    "    if tables[guests].varValue == 1.0:\n",
    "        print(guests)"
   ]
  }
 ],
 "metadata": {
  "kernelspec": {
   "display_name": "Python 3",
   "language": "python",
   "name": "python3"
  },
  "language_info": {
   "codemirror_mode": {
    "name": "ipython",
    "version": 3
   },
   "file_extension": ".py",
   "mimetype": "text/x-python",
   "name": "python",
   "nbconvert_exporter": "python",
   "pygments_lexer": "ipython3",
   "version": "3.7.7"
  }
 },
 "nbformat": 4,
 "nbformat_minor": 2
}
