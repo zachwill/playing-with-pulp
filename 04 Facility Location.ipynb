{
 "cells": [
  {
   "cell_type": "markdown",
   "metadata": {},
   "source": [
    "https://www.ima.umn.edu/materials/2017-2018.2/W8.21-25.17/26306/PythonModeling.pdf"
   ]
  },
  {
   "cell_type": "code",
   "execution_count": 1,
   "metadata": {},
   "outputs": [
    {
     "data": {
      "application/javascript": [
       "\n",
       "            setTimeout(function() {\n",
       "                var nbb_cell_id = 1;\n",
       "                var nbb_unformatted_code = \"%load_ext nb_black\\n\\nfrom pulp import LpProblem, LpVariable, lpSum, value\\nfrom pulp import LpBinary, LpMinimize, LpMaximize\";\n",
       "                var nbb_formatted_code = \"%load_ext nb_black\\n\\nfrom pulp import LpProblem, LpVariable, lpSum, value\\nfrom pulp import LpBinary, LpMinimize, LpMaximize\";\n",
       "                var nbb_cells = Jupyter.notebook.get_cells();\n",
       "                for (var i = 0; i < nbb_cells.length; ++i) {\n",
       "                    if (nbb_cells[i].input_prompt_number == nbb_cell_id) {\n",
       "                        if (nbb_cells[i].get_text() == nbb_unformatted_code) {\n",
       "                             nbb_cells[i].set_text(nbb_formatted_code);\n",
       "                        }\n",
       "                        break;\n",
       "                    }\n",
       "                }\n",
       "            }, 500);\n",
       "            "
      ],
      "text/plain": [
       "<IPython.core.display.Javascript object>"
      ]
     },
     "metadata": {},
     "output_type": "display_data"
    }
   ],
   "source": [
    "%load_ext nb_black\n",
    "\n",
    "from pulp import LpProblem, LpVariable, lpSum, value\n",
    "from pulp import LpBinary, LpMinimize, LpMaximize"
   ]
  },
  {
   "cell_type": "code",
   "execution_count": 2,
   "metadata": {},
   "outputs": [
    {
     "data": {
      "application/javascript": [
       "\n",
       "            setTimeout(function() {\n",
       "                var nbb_cell_id = 2;\n",
       "                var nbb_unformatted_code = \"# The required space needed for each product\\nPRODUCT_SPACE_NEEDED = {\\n    1 : 7,\\n    2 : 5,\\n    3 : 3,\\n    4 : 2,\\n    5 : 2,\\n}\\n\\n# Set of all products\\nPRODUCTS = PRODUCT_SPACE_NEEDED.keys()\\n\\n# Costs of the facilities\\nFIXED_COST = {\\n    1 : 10,\\n    2 : 20,\\n    3 : 16,\\n    4 : 1,\\n    5 : 2,\\n}\\n\\n# Set of facilities\\nLOCATIONS = FIXED_COST.keys()\\n\\n# The capacity of the facilities\\nCAPACITY = 8\";\n",
       "                var nbb_formatted_code = \"# The required space needed for each product\\nPRODUCT_SPACE_NEEDED = {\\n    1: 7,\\n    2: 5,\\n    3: 3,\\n    4: 2,\\n    5: 2,\\n}\\n\\n# Set of all products\\nPRODUCTS = PRODUCT_SPACE_NEEDED.keys()\\n\\n# Costs of the facilities\\nFIXED_COST = {\\n    1: 10,\\n    2: 20,\\n    3: 16,\\n    4: 1,\\n    5: 2,\\n}\\n\\n# Set of facilities\\nLOCATIONS = FIXED_COST.keys()\\n\\n# The capacity of the facilities\\nCAPACITY = 8\";\n",
       "                var nbb_cells = Jupyter.notebook.get_cells();\n",
       "                for (var i = 0; i < nbb_cells.length; ++i) {\n",
       "                    if (nbb_cells[i].input_prompt_number == nbb_cell_id) {\n",
       "                        if (nbb_cells[i].get_text() == nbb_unformatted_code) {\n",
       "                             nbb_cells[i].set_text(nbb_formatted_code);\n",
       "                        }\n",
       "                        break;\n",
       "                    }\n",
       "                }\n",
       "            }, 500);\n",
       "            "
      ],
      "text/plain": [
       "<IPython.core.display.Javascript object>"
      ]
     },
     "metadata": {},
     "output_type": "display_data"
    }
   ],
   "source": [
    "# The required space needed for each product\n",
    "PRODUCT_SPACE_NEEDED = {\n",
    "    1: 7,\n",
    "    2: 5,\n",
    "    3: 3,\n",
    "    4: 2,\n",
    "    5: 2,\n",
    "}\n",
    "\n",
    "# Set of all products\n",
    "PRODUCTS = PRODUCT_SPACE_NEEDED.keys()\n",
    "\n",
    "# Costs of the facilities\n",
    "FIXED_COST = {\n",
    "    1: 10,\n",
    "    2: 20,\n",
    "    3: 16,\n",
    "    4: 1,\n",
    "    5: 2,\n",
    "}\n",
    "\n",
    "# Set of facilities\n",
    "LOCATIONS = FIXED_COST.keys()\n",
    "\n",
    "# The capacity of the facilities\n",
    "CAPACITY = 8"
   ]
  },
  {
   "cell_type": "code",
   "execution_count": 3,
   "metadata": {},
   "outputs": [
    {
     "name": "stderr",
     "output_type": "stream",
     "text": [
      "/usr/local/lib/python3.7/site-packages/pulp/pulp.py:1137: UserWarning: Spaces are not permitted in the name. Converted to '_'\n",
      "  warnings.warn(\"Spaces are not permitted in the name. Converted to '_'\")\n"
     ]
    },
    {
     "data": {
      "application/javascript": [
       "\n",
       "            setTimeout(function() {\n",
       "                var nbb_cell_id = 3;\n",
       "                var nbb_unformatted_code = \"prob = LpProblem(\\\"Facility Location\\\", LpMinimize)\\n\\nASSIGNMENTS = [(loc, prod) for loc in LOCATIONS for prod in PRODUCTS]\\n\\nassign_vars = LpVariable.dicts(\\\"x\\\", ASSIGNMENTS, 0, 1, LpBinary)\\nuse_vars = LpVariable.dicts(\\\"y\\\", LOCATIONS, 0, 1, LpBinary)\\n\\nprob += lpSum(use_vars[loc] * FIXED_COST[loc] for loc in LOCATIONS)\\n\\nfor prod in PRODUCTS:\\n    prob += lpSum(assign_vars[(loc, prod)] for loc in LOCATIONS) == 1\\n    \\nfor loc in LOCATIONS:\\n    prob += lpSum(assign_vars[(loc, prod)] * PRODUCT_SPACE_NEEDED[prod] for prod in PRODUCTS) <= CAPACITY * use_vars[loc]\";\n",
       "                var nbb_formatted_code = \"prob = LpProblem(\\\"Facility Location\\\", LpMinimize)\\n\\nASSIGNMENTS = [(loc, prod) for loc in LOCATIONS for prod in PRODUCTS]\\n\\nassign_vars = LpVariable.dicts(\\\"x\\\", ASSIGNMENTS, 0, 1, LpBinary)\\nuse_vars = LpVariable.dicts(\\\"y\\\", LOCATIONS, 0, 1, LpBinary)\\n\\nprob += lpSum(use_vars[loc] * FIXED_COST[loc] for loc in LOCATIONS)\\n\\nfor prod in PRODUCTS:\\n    prob += lpSum(assign_vars[(loc, prod)] for loc in LOCATIONS) == 1\\n\\nfor loc in LOCATIONS:\\n    prob += (\\n        lpSum(\\n            assign_vars[(loc, prod)] * PRODUCT_SPACE_NEEDED[prod] for prod in PRODUCTS\\n        )\\n        <= CAPACITY * use_vars[loc]\\n    )\";\n",
       "                var nbb_cells = Jupyter.notebook.get_cells();\n",
       "                for (var i = 0; i < nbb_cells.length; ++i) {\n",
       "                    if (nbb_cells[i].input_prompt_number == nbb_cell_id) {\n",
       "                        if (nbb_cells[i].get_text() == nbb_unformatted_code) {\n",
       "                             nbb_cells[i].set_text(nbb_formatted_code);\n",
       "                        }\n",
       "                        break;\n",
       "                    }\n",
       "                }\n",
       "            }, 500);\n",
       "            "
      ],
      "text/plain": [
       "<IPython.core.display.Javascript object>"
      ]
     },
     "metadata": {},
     "output_type": "display_data"
    }
   ],
   "source": [
    "prob = LpProblem(\"Facility Location\", LpMinimize)\n",
    "\n",
    "ASSIGNMENTS = [(loc, prod) for loc in LOCATIONS for prod in PRODUCTS]\n",
    "\n",
    "assign_vars = LpVariable.dicts(\"x\", ASSIGNMENTS, 0, 1, LpBinary)\n",
    "\n",
    "use_vars = LpVariable.dicts(\"y\", LOCATIONS, 0, 1, LpBinary)\n",
    "\n",
    "prob += lpSum(use_vars[loc] * FIXED_COST[loc] for loc in LOCATIONS)\n",
    "\n",
    "for prod in PRODUCTS:\n",
    "    prob += lpSum(assign_vars[(loc, prod)] for loc in LOCATIONS) == 1\n",
    "\n",
    "for loc in LOCATIONS:\n",
    "    prob += (\n",
    "        lpSum(\n",
    "            assign_vars[(loc, prod)] * PRODUCT_SPACE_NEEDED[prod] for prod in PRODUCTS\n",
    "        )\n",
    "        <= CAPACITY * use_vars[loc]\n",
    "    )"
   ]
  },
  {
   "cell_type": "code",
   "execution_count": 4,
   "metadata": {},
   "outputs": [
    {
     "name": "stdout",
     "output_type": "stream",
     "text": [
      "Location 1 is assigned: \n",
      "[1]\n",
      "\n",
      "Location 4 is assigned: \n",
      "[3, 5]\n",
      "\n",
      "Location 5 is assigned: \n",
      "[2, 4]\n",
      "\n"
     ]
    },
    {
     "data": {
      "application/javascript": [
       "\n",
       "            setTimeout(function() {\n",
       "                var nbb_cell_id = 4;\n",
       "                var nbb_unformatted_code = \"prob.solve()\\nfor i in LOCATIONS:\\n    if use_vars[i].varValue > 0:\\n        print(f\\\"Location {i} is assigned: \\\")\\n        print([j for j in PRODUCTS if assign_vars[(i, j)].varValue > 0])\\n        print()\";\n",
       "                var nbb_formatted_code = \"prob.solve()\\nfor i in LOCATIONS:\\n    if use_vars[i].varValue > 0:\\n        print(f\\\"Location {i} is assigned: \\\")\\n        print([j for j in PRODUCTS if assign_vars[(i, j)].varValue > 0])\\n        print()\";\n",
       "                var nbb_cells = Jupyter.notebook.get_cells();\n",
       "                for (var i = 0; i < nbb_cells.length; ++i) {\n",
       "                    if (nbb_cells[i].input_prompt_number == nbb_cell_id) {\n",
       "                        if (nbb_cells[i].get_text() == nbb_unformatted_code) {\n",
       "                             nbb_cells[i].set_text(nbb_formatted_code);\n",
       "                        }\n",
       "                        break;\n",
       "                    }\n",
       "                }\n",
       "            }, 500);\n",
       "            "
      ],
      "text/plain": [
       "<IPython.core.display.Javascript object>"
      ]
     },
     "metadata": {},
     "output_type": "display_data"
    }
   ],
   "source": [
    "prob.solve()\n",
    "for i in LOCATIONS:\n",
    "    if use_vars[i].varValue > 0:\n",
    "        print(f\"Location {i} is assigned: \")\n",
    "        print([j for j in PRODUCTS if assign_vars[(i, j)].varValue > 0])\n",
    "        print()"
   ]
  },
  {
   "cell_type": "code",
   "execution_count": 5,
   "metadata": {},
   "outputs": [
    {
     "data": {
      "text/plain": [
       "13.0"
      ]
     },
     "execution_count": 5,
     "metadata": {},
     "output_type": "execute_result"
    },
    {
     "data": {
      "application/javascript": [
       "\n",
       "            setTimeout(function() {\n",
       "                var nbb_cell_id = 5;\n",
       "                var nbb_unformatted_code = \"value(prob.objective)\";\n",
       "                var nbb_formatted_code = \"value(prob.objective)\";\n",
       "                var nbb_cells = Jupyter.notebook.get_cells();\n",
       "                for (var i = 0; i < nbb_cells.length; ++i) {\n",
       "                    if (nbb_cells[i].input_prompt_number == nbb_cell_id) {\n",
       "                        if (nbb_cells[i].get_text() == nbb_unformatted_code) {\n",
       "                             nbb_cells[i].set_text(nbb_formatted_code);\n",
       "                        }\n",
       "                        break;\n",
       "                    }\n",
       "                }\n",
       "            }, 500);\n",
       "            "
      ],
      "text/plain": [
       "<IPython.core.display.Javascript object>"
      ]
     },
     "metadata": {},
     "output_type": "display_data"
    }
   ],
   "source": [
    "value(prob.objective)"
   ]
  },
  {
   "cell_type": "code",
   "execution_count": 6,
   "metadata": {},
   "outputs": [
    {
     "data": {
      "text/plain": [
       "<bound method LpProblem.variables of Facility_Location:\n",
       "MINIMIZE\n",
       "10*y_1 + 20*y_2 + 16*y_3 + 1*y_4 + 2*y_5 + 0\n",
       "SUBJECT TO\n",
       "_C1: x_(1,_1) + x_(2,_1) + x_(3,_1) + x_(4,_1) + x_(5,_1) = 1\n",
       "\n",
       "_C2: x_(1,_2) + x_(2,_2) + x_(3,_2) + x_(4,_2) + x_(5,_2) = 1\n",
       "\n",
       "_C3: x_(1,_3) + x_(2,_3) + x_(3,_3) + x_(4,_3) + x_(5,_3) = 1\n",
       "\n",
       "_C4: x_(1,_4) + x_(2,_4) + x_(3,_4) + x_(4,_4) + x_(5,_4) = 1\n",
       "\n",
       "_C5: x_(1,_5) + x_(2,_5) + x_(3,_5) + x_(4,_5) + x_(5,_5) = 1\n",
       "\n",
       "_C6: 7 x_(1,_1) + 5 x_(1,_2) + 3 x_(1,_3) + 2 x_(1,_4) + 2 x_(1,_5) - 8 y_1\n",
       " <= 0\n",
       "\n",
       "_C7: 7 x_(2,_1) + 5 x_(2,_2) + 3 x_(2,_3) + 2 x_(2,_4) + 2 x_(2,_5) - 8 y_2\n",
       " <= 0\n",
       "\n",
       "_C8: 7 x_(3,_1) + 5 x_(3,_2) + 3 x_(3,_3) + 2 x_(3,_4) + 2 x_(3,_5) - 8 y_3\n",
       " <= 0\n",
       "\n",
       "_C9: 7 x_(4,_1) + 5 x_(4,_2) + 3 x_(4,_3) + 2 x_(4,_4) + 2 x_(4,_5) - 8 y_4\n",
       " <= 0\n",
       "\n",
       "_C10: 7 x_(5,_1) + 5 x_(5,_2) + 3 x_(5,_3) + 2 x_(5,_4) + 2 x_(5,_5) - 8 y_5\n",
       " <= 0\n",
       "\n",
       "VARIABLES\n",
       "0 <= x_(1,_1) <= 1 Integer\n",
       "0 <= x_(1,_2) <= 1 Integer\n",
       "0 <= x_(1,_3) <= 1 Integer\n",
       "0 <= x_(1,_4) <= 1 Integer\n",
       "0 <= x_(1,_5) <= 1 Integer\n",
       "0 <= x_(2,_1) <= 1 Integer\n",
       "0 <= x_(2,_2) <= 1 Integer\n",
       "0 <= x_(2,_3) <= 1 Integer\n",
       "0 <= x_(2,_4) <= 1 Integer\n",
       "0 <= x_(2,_5) <= 1 Integer\n",
       "0 <= x_(3,_1) <= 1 Integer\n",
       "0 <= x_(3,_2) <= 1 Integer\n",
       "0 <= x_(3,_3) <= 1 Integer\n",
       "0 <= x_(3,_4) <= 1 Integer\n",
       "0 <= x_(3,_5) <= 1 Integer\n",
       "0 <= x_(4,_1) <= 1 Integer\n",
       "0 <= x_(4,_2) <= 1 Integer\n",
       "0 <= x_(4,_3) <= 1 Integer\n",
       "0 <= x_(4,_4) <= 1 Integer\n",
       "0 <= x_(4,_5) <= 1 Integer\n",
       "0 <= x_(5,_1) <= 1 Integer\n",
       "0 <= x_(5,_2) <= 1 Integer\n",
       "0 <= x_(5,_3) <= 1 Integer\n",
       "0 <= x_(5,_4) <= 1 Integer\n",
       "0 <= x_(5,_5) <= 1 Integer\n",
       "0 <= y_1 <= 1 Integer\n",
       "0 <= y_2 <= 1 Integer\n",
       "0 <= y_3 <= 1 Integer\n",
       "0 <= y_4 <= 1 Integer\n",
       "0 <= y_5 <= 1 Integer\n",
       ">"
      ]
     },
     "execution_count": 6,
     "metadata": {},
     "output_type": "execute_result"
    },
    {
     "data": {
      "application/javascript": [
       "\n",
       "            setTimeout(function() {\n",
       "                var nbb_cell_id = 6;\n",
       "                var nbb_unformatted_code = \"prob.variables\";\n",
       "                var nbb_formatted_code = \"prob.variables\";\n",
       "                var nbb_cells = Jupyter.notebook.get_cells();\n",
       "                for (var i = 0; i < nbb_cells.length; ++i) {\n",
       "                    if (nbb_cells[i].input_prompt_number == nbb_cell_id) {\n",
       "                        if (nbb_cells[i].get_text() == nbb_unformatted_code) {\n",
       "                             nbb_cells[i].set_text(nbb_formatted_code);\n",
       "                        }\n",
       "                        break;\n",
       "                    }\n",
       "                }\n",
       "            }, 500);\n",
       "            "
      ],
      "text/plain": [
       "<IPython.core.display.Javascript object>"
      ]
     },
     "metadata": {},
     "output_type": "display_data"
    }
   ],
   "source": [
    "prob.variables"
   ]
  }
 ],
 "metadata": {
  "kernelspec": {
   "display_name": "Python 3",
   "language": "python",
   "name": "python3"
  },
  "language_info": {
   "codemirror_mode": {
    "name": "ipython",
    "version": 3
   },
   "file_extension": ".py",
   "mimetype": "text/x-python",
   "name": "python",
   "nbconvert_exporter": "python",
   "pygments_lexer": "ipython3",
   "version": "3.7.7"
  }
 },
 "nbformat": 4,
 "nbformat_minor": 2
}
