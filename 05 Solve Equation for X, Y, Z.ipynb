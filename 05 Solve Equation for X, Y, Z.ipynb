{
 "cells": [
  {
   "cell_type": "markdown",
   "metadata": {},
   "source": [
    "https://github.com/benalexkeen/Introduction-to-linear-programming/"
   ]
  },
  {
   "cell_type": "code",
   "execution_count": 2,
   "metadata": {},
   "outputs": [
    {
     "name": "stdout",
     "output_type": "stream",
     "text": [
      "The nb_black extension is already loaded. To reload it, use:\n",
      "  %reload_ext nb_black\n"
     ]
    },
    {
     "data": {
      "application/javascript": [
       "\n",
       "            setTimeout(function() {\n",
       "                var nbb_cell_id = 2;\n",
       "                var nbb_unformatted_code = \"%load_ext nb_black\\n\\nfrom pulp import LpProblem, LpStatus, LpVariable, lpSum, value\\nfrom pulp import LpBinary, LpMinimize, LpMaximize\";\n",
       "                var nbb_formatted_code = \"%load_ext nb_black\\n\\nfrom pulp import LpProblem, LpStatus, LpVariable, lpSum, value\\nfrom pulp import LpBinary, LpMinimize, LpMaximize\";\n",
       "                var nbb_cells = Jupyter.notebook.get_cells();\n",
       "                for (var i = 0; i < nbb_cells.length; ++i) {\n",
       "                    if (nbb_cells[i].input_prompt_number == nbb_cell_id) {\n",
       "                        if (nbb_cells[i].get_text() == nbb_unformatted_code) {\n",
       "                             nbb_cells[i].set_text(nbb_formatted_code);\n",
       "                        }\n",
       "                        break;\n",
       "                    }\n",
       "                }\n",
       "            }, 500);\n",
       "            "
      ],
      "text/plain": [
       "<IPython.core.display.Javascript object>"
      ]
     },
     "metadata": {},
     "output_type": "display_data"
    }
   ],
   "source": [
    "%load_ext nb_black\n",
    "\n",
    "from pulp import LpProblem, LpStatus, LpVariable, lpSum, value\n",
    "from pulp import LpBinary, LpMinimize, LpMaximize"
   ]
  },
  {
   "cell_type": "code",
   "execution_count": 3,
   "metadata": {},
   "outputs": [
    {
     "data": {
      "application/javascript": [
       "\n",
       "            setTimeout(function() {\n",
       "                var nbb_cell_id = 3;\n",
       "                var nbb_unformatted_code = \"prob = LpProblem(\\\"Equation\\\", LpMaximize)\\n\\nx = LpVariable(\\\"x\\\", lowBound=0, cat=\\\"Continuous\\\")\\ny = LpVariable(\\\"y\\\", lowBound=2, cat=\\\"Continuous\\\")\\n\\n# Objective function\\nprob += 4 * x + 3 * y, \\\"Z\\\"\\n\\n# Constraints\\nprob += 2 * y <= 25 - x\\nprob += 4 * y >= 2 * x - 8\\nprob += y <= 2 * x - 5\";\n",
       "                var nbb_formatted_code = \"prob = LpProblem(\\\"Equation\\\", LpMaximize)\\n\\nx = LpVariable(\\\"x\\\", lowBound=0, cat=\\\"Continuous\\\")\\ny = LpVariable(\\\"y\\\", lowBound=2, cat=\\\"Continuous\\\")\\n\\n# Objective function\\nprob += 4 * x + 3 * y, \\\"Z\\\"\\n\\n# Constraints\\nprob += 2 * y <= 25 - x\\nprob += 4 * y >= 2 * x - 8\\nprob += y <= 2 * x - 5\";\n",
       "                var nbb_cells = Jupyter.notebook.get_cells();\n",
       "                for (var i = 0; i < nbb_cells.length; ++i) {\n",
       "                    if (nbb_cells[i].input_prompt_number == nbb_cell_id) {\n",
       "                        if (nbb_cells[i].get_text() == nbb_unformatted_code) {\n",
       "                             nbb_cells[i].set_text(nbb_formatted_code);\n",
       "                        }\n",
       "                        break;\n",
       "                    }\n",
       "                }\n",
       "            }, 500);\n",
       "            "
      ],
      "text/plain": [
       "<IPython.core.display.Javascript object>"
      ]
     },
     "metadata": {},
     "output_type": "display_data"
    }
   ],
   "source": [
    "prob = LpProblem(\"Equation\", LpMaximize)\n",
    "\n",
    "x = LpVariable(\"x\", lowBound=0, cat=\"Continuous\")\n",
    "y = LpVariable(\"y\", lowBound=2, cat=\"Continuous\")\n",
    "\n",
    "# Objective function\n",
    "prob += 4 * x + 3 * y, \"Z\"\n",
    "\n",
    "# Constraints\n",
    "prob += 2 * y <= 25 - x\n",
    "prob += 4 * y >= 2 * x - 8\n",
    "prob += y <= 2 * x - 5"
   ]
  },
  {
   "cell_type": "code",
   "execution_count": 5,
   "metadata": {},
   "outputs": [
    {
     "data": {
      "text/plain": [
       "'Optimal'"
      ]
     },
     "execution_count": 5,
     "metadata": {},
     "output_type": "execute_result"
    },
    {
     "data": {
      "application/javascript": [
       "\n",
       "            setTimeout(function() {\n",
       "                var nbb_cell_id = 5;\n",
       "                var nbb_unformatted_code = \"prob.solve()\\n\\nLpStatus[prob.status]\";\n",
       "                var nbb_formatted_code = \"prob.solve()\\n\\nLpStatus[prob.status]\";\n",
       "                var nbb_cells = Jupyter.notebook.get_cells();\n",
       "                for (var i = 0; i < nbb_cells.length; ++i) {\n",
       "                    if (nbb_cells[i].input_prompt_number == nbb_cell_id) {\n",
       "                        if (nbb_cells[i].get_text() == nbb_unformatted_code) {\n",
       "                             nbb_cells[i].set_text(nbb_formatted_code);\n",
       "                        }\n",
       "                        break;\n",
       "                    }\n",
       "                }\n",
       "            }, 500);\n",
       "            "
      ],
      "text/plain": [
       "<IPython.core.display.Javascript object>"
      ]
     },
     "metadata": {},
     "output_type": "display_data"
    }
   ],
   "source": [
    "prob.solve()\n",
    "\n",
    "LpStatus[prob.status]"
   ]
  },
  {
   "cell_type": "code",
   "execution_count": 23,
   "metadata": {},
   "outputs": [
    {
     "name": "stdout",
     "output_type": "stream",
     "text": [
      "x =  14.50\n",
      "y =   5.25\n",
      "\n",
      "z =  73.75\n"
     ]
    },
    {
     "data": {
      "application/javascript": [
       "\n",
       "            setTimeout(function() {\n",
       "                var nbb_cell_id = 23;\n",
       "                var nbb_unformatted_code = \"for variable in prob.variables():\\n    print(f\\\"{variable.name} = {variable.varValue:>6.2f}\\\")\\nprint(f\\\"\\\\nz = {value(prob.objective):>6.2f}\\\")\";\n",
       "                var nbb_formatted_code = \"for variable in prob.variables():\\n    print(f\\\"{variable.name} = {variable.varValue:>6.2f}\\\")\\nprint(f\\\"\\\\nz = {value(prob.objective):>6.2f}\\\")\";\n",
       "                var nbb_cells = Jupyter.notebook.get_cells();\n",
       "                for (var i = 0; i < nbb_cells.length; ++i) {\n",
       "                    if (nbb_cells[i].input_prompt_number == nbb_cell_id) {\n",
       "                        if (nbb_cells[i].get_text() == nbb_unformatted_code) {\n",
       "                             nbb_cells[i].set_text(nbb_formatted_code);\n",
       "                        }\n",
       "                        break;\n",
       "                    }\n",
       "                }\n",
       "            }, 500);\n",
       "            "
      ],
      "text/plain": [
       "<IPython.core.display.Javascript object>"
      ]
     },
     "metadata": {},
     "output_type": "display_data"
    }
   ],
   "source": [
    "for variable in prob.variables():\n",
    "    print(f\"{variable.name} = {variable.varValue:>6.2f}\")\n",
    "print(f\"\\nz = {value(prob.objective):>6.2f}\")"
   ]
  },
  {
   "cell_type": "code",
   "execution_count": 19,
   "metadata": {},
   "outputs": [
    {
     "data": {
      "text/plain": [
       "<bound method LpProblem.variables of Equation:\n",
       "MAXIMIZE\n",
       "4*x + 3*y + 0\n",
       "SUBJECT TO\n",
       "_C1: x + 2 y <= 25\n",
       "\n",
       "_C2: - 2 x + 4 y >= -8\n",
       "\n",
       "_C3: - 2 x + y <= -5\n",
       "\n",
       "VARIABLES\n",
       "x Continuous\n",
       "2 <= y Continuous\n",
       ">"
      ]
     },
     "execution_count": 19,
     "metadata": {},
     "output_type": "execute_result"
    },
    {
     "data": {
      "application/javascript": [
       "\n",
       "            setTimeout(function() {\n",
       "                var nbb_cell_id = 19;\n",
       "                var nbb_unformatted_code = \"prob.variables\";\n",
       "                var nbb_formatted_code = \"prob.variables\";\n",
       "                var nbb_cells = Jupyter.notebook.get_cells();\n",
       "                for (var i = 0; i < nbb_cells.length; ++i) {\n",
       "                    if (nbb_cells[i].input_prompt_number == nbb_cell_id) {\n",
       "                        if (nbb_cells[i].get_text() == nbb_unformatted_code) {\n",
       "                             nbb_cells[i].set_text(nbb_formatted_code);\n",
       "                        }\n",
       "                        break;\n",
       "                    }\n",
       "                }\n",
       "            }, 500);\n",
       "            "
      ],
      "text/plain": [
       "<IPython.core.display.Javascript object>"
      ]
     },
     "metadata": {},
     "output_type": "display_data"
    }
   ],
   "source": [
    "prob.variables"
   ]
  }
 ],
 "metadata": {
  "kernelspec": {
   "display_name": "Python 3",
   "language": "python",
   "name": "python3"
  },
  "language_info": {
   "codemirror_mode": {
    "name": "ipython",
    "version": 3
   },
   "file_extension": ".py",
   "mimetype": "text/x-python",
   "name": "python",
   "nbconvert_exporter": "python",
   "pygments_lexer": "ipython3",
   "version": "3.7.7"
  }
 },
 "nbformat": 4,
 "nbformat_minor": 2
}
