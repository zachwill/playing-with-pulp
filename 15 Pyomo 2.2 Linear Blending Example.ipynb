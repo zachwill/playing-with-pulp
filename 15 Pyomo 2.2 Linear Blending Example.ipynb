{
 "cells": [
  {
   "cell_type": "markdown",
   "metadata": {},
   "source": [
    "https://github.com/jckantor/ND-Pyomo-Cookbook/blob/master/notebooks/02.02-Linear-Blending-Problem.ipynb"
   ]
  },
  {
   "cell_type": "code",
   "execution_count": 1,
   "metadata": {},
   "outputs": [],
   "source": [
    "from pulp import LpProblem, LpStatus, LpVariable\n",
    "from pulp import LpMinimize, LpMaximize, lpSum, value"
   ]
  },
  {
   "cell_type": "code",
   "execution_count": 2,
   "metadata": {},
   "outputs": [],
   "source": [
    "data = {\n",
    "    \"Beer A\": {\"abv\": 0.045, \"cost\": 0.32},\n",
    "    \"Beer B\": {\"abv\": 0.037, \"cost\": 0.25},\n",
    "    \"Water\": {\"abv\": 0.000, \"cost\": 0.05},\n",
    "}"
   ]
  },
  {
   "cell_type": "code",
   "execution_count": 16,
   "metadata": {},
   "outputs": [],
   "source": [
    "drink_abv = dict((key, item[\"abv\"]) for key, item in data.items())\n",
    "drink_cost = dict((key, item[\"cost\"]) for key, item in data.items())"
   ]
  },
  {
   "cell_type": "code",
   "execution_count": 20,
   "metadata": {},
   "outputs": [],
   "source": [
    "beer = LpVariable.dicts(\"beer\", data.keys(), lowBound=0, cat=\"Continuous\")\n",
    "cost = LpVariable(\"cost\", lowBound=0, cat=\"Continuous\")"
   ]
  },
  {
   "cell_type": "code",
   "execution_count": 21,
   "metadata": {},
   "outputs": [],
   "source": [
    "model = LpProblem(\"Beer Problem\", LpMinimize)\n",
    "\n",
    "model += lpSum([drink_cost[b] * beer[b] for b in data.keys()])\n",
    "model += lpSum([drink_abv[b] * beer[b] for b in data.keys()]) == 4, \"Minimum alcohol\"\n",
    "model += lpSum(beer) == 100, \"100 drinks\""
   ]
  },
  {
   "cell_type": "code",
   "execution_count": 22,
   "metadata": {},
   "outputs": [
    {
     "data": {
      "text/plain": [
       "'Optimal'"
      ]
     },
     "execution_count": 22,
     "metadata": {},
     "output_type": "execute_result"
    }
   ],
   "source": [
    "model.solve()\n",
    "\n",
    "LpStatus[model.status]"
   ]
  },
  {
   "cell_type": "code",
   "execution_count": 23,
   "metadata": {},
   "outputs": [
    {
     "data": {
      "text/plain": [
       "27.625"
      ]
     },
     "execution_count": 23,
     "metadata": {},
     "output_type": "execute_result"
    }
   ],
   "source": [
    "value(model.objective)"
   ]
  },
  {
   "cell_type": "code",
   "execution_count": 25,
   "metadata": {},
   "outputs": [
    {
     "name": "stdout",
     "output_type": "stream",
     "text": [
      "\n",
      "A =  37.5\n",
      "B =  62.5\n",
      "W =   0.0\n",
      "\n"
     ]
    }
   ],
   "source": [
    "print(f\"\"\"\n",
    "A = {beer[\"Beer A\"].varValue:>5}\n",
    "B = {beer[\"Beer B\"].varValue:>5}\n",
    "W = {beer[\"Water\"].varValue:>5}\n",
    "\"\"\")"
   ]
  },
  {
   "cell_type": "code",
   "execution_count": 26,
   "metadata": {},
   "outputs": [
    {
     "data": {
      "text/plain": [
       "Beer_Problem:\n",
       "MINIMIZE\n",
       "0.32*beer_Beer_A + 0.25*beer_Beer_B + 0.05*beer_Water + 0.0\n",
       "SUBJECT TO\n",
       "Minimum_alcohol: 0.045 beer_Beer_A + 0.037 beer_Beer_B = 4\n",
       "\n",
       "100_drinks: beer_Beer_A + beer_Beer_B + beer_Water = 100\n",
       "\n",
       "VARIABLES\n",
       "beer_Beer_A Continuous\n",
       "beer_Beer_B Continuous\n",
       "beer_Water Continuous"
      ]
     },
     "execution_count": 26,
     "metadata": {},
     "output_type": "execute_result"
    }
   ],
   "source": [
    "model"
   ]
  }
 ],
 "metadata": {
  "kernelspec": {
   "display_name": "Python 3",
   "language": "python",
   "name": "python3"
  },
  "language_info": {
   "codemirror_mode": {
    "name": "ipython",
    "version": 3
   },
   "file_extension": ".py",
   "mimetype": "text/x-python",
   "name": "python",
   "nbconvert_exporter": "python",
   "pygments_lexer": "ipython3",
   "version": "3.7.7"
  }
 },
 "nbformat": 4,
 "nbformat_minor": 2
}
