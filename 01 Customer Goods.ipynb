{
 "cells": [
  {
   "cell_type": "markdown",
   "metadata": {},
   "source": [
    "__Optimization Modeling using `PuLP`__\n",
    "\n",
    "https://medium.com/analytics-vidhya/optimization-modelling-in-python-scipy-pulp-and-pyomo-d392376109f4"
   ]
  },
  {
   "cell_type": "code",
   "execution_count": 1,
   "metadata": {},
   "outputs": [
    {
     "data": {
      "application/javascript": [
       "\n",
       "            setTimeout(function() {\n",
       "                var nbb_cell_id = 1;\n",
       "                var nbb_unformatted_code = \"%load_ext nb_black\\n\\nimport pandas as pd\\n\\nfrom pulp import LpProblem, LpVariable, LpStatus, lpSum, value\\nfrom pulp import LpMaximize, LpMinimize, LpAffineExpression, LpConstraint\";\n",
       "                var nbb_formatted_code = \"%load_ext nb_black\\n\\nimport pandas as pd\\n\\nfrom pulp import LpProblem, LpVariable, LpStatus, lpSum, value\\nfrom pulp import LpMaximize, LpMinimize, LpAffineExpression, LpConstraint\";\n",
       "                var nbb_cells = Jupyter.notebook.get_cells();\n",
       "                for (var i = 0; i < nbb_cells.length; ++i) {\n",
       "                    if (nbb_cells[i].input_prompt_number == nbb_cell_id) {\n",
       "                        if (nbb_cells[i].get_text() == nbb_unformatted_code) {\n",
       "                             nbb_cells[i].set_text(nbb_formatted_code);\n",
       "                        }\n",
       "                        break;\n",
       "                    }\n",
       "                }\n",
       "            }, 500);\n",
       "            "
      ],
      "text/plain": [
       "<IPython.core.display.Javascript object>"
      ]
     },
     "metadata": {},
     "output_type": "display_data"
    }
   ],
   "source": [
    "%load_ext nb_black\n",
    "\n",
    "import pandas as pd\n",
    "\n",
    "from pulp import LpProblem, LpVariable, LpStatus, lpSum, value\n",
    "from pulp import LpMaximize, LpMinimize, LpAffineExpression, LpConstraint"
   ]
  },
  {
   "cell_type": "code",
   "execution_count": 2,
   "metadata": {},
   "outputs": [
    {
     "data": {
      "application/javascript": [
       "\n",
       "            setTimeout(function() {\n",
       "                var nbb_cell_id = 2;\n",
       "                var nbb_unformatted_code = \"customer_demand = {1: 80, 2: 270, 3: 250, 4: 160, 5: 180}\\n\\nfactory_capacity = {1: 500, 2: 500, 3: 500}\\n\\ncustomers = customer_demand.keys()\\n\\nfactories = factory_capacity.keys()\\n\\ntransportation_cost = {\\n    (1, 1): 4,\\n    (1, 2): 6,\\n    (1, 3): 9,\\n    (2, 1): 5,\\n    (2, 2): 4,\\n    (2, 3): 7,\\n    (3, 1): 6,\\n    (3, 2): 3,\\n    (3, 3): 3,\\n    (4, 1): 8,\\n    (4, 2): 5,\\n    (4, 3): 3,\\n    (5, 1): 10,\\n    (5, 2): 8,\\n    (5, 3): 4,\\n}\";\n",
       "                var nbb_formatted_code = \"customer_demand = {1: 80, 2: 270, 3: 250, 4: 160, 5: 180}\\n\\nfactory_capacity = {1: 500, 2: 500, 3: 500}\\n\\ncustomers = customer_demand.keys()\\n\\nfactories = factory_capacity.keys()\\n\\ntransportation_cost = {\\n    (1, 1): 4,\\n    (1, 2): 6,\\n    (1, 3): 9,\\n    (2, 1): 5,\\n    (2, 2): 4,\\n    (2, 3): 7,\\n    (3, 1): 6,\\n    (3, 2): 3,\\n    (3, 3): 3,\\n    (4, 1): 8,\\n    (4, 2): 5,\\n    (4, 3): 3,\\n    (5, 1): 10,\\n    (5, 2): 8,\\n    (5, 3): 4,\\n}\";\n",
       "                var nbb_cells = Jupyter.notebook.get_cells();\n",
       "                for (var i = 0; i < nbb_cells.length; ++i) {\n",
       "                    if (nbb_cells[i].input_prompt_number == nbb_cell_id) {\n",
       "                        if (nbb_cells[i].get_text() == nbb_unformatted_code) {\n",
       "                             nbb_cells[i].set_text(nbb_formatted_code);\n",
       "                        }\n",
       "                        break;\n",
       "                    }\n",
       "                }\n",
       "            }, 500);\n",
       "            "
      ],
      "text/plain": [
       "<IPython.core.display.Javascript object>"
      ]
     },
     "metadata": {},
     "output_type": "display_data"
    }
   ],
   "source": [
    "customer_demand = {1: 80, 2: 270, 3: 250, 4: 160, 5: 180}\n",
    "\n",
    "factory_capacity = {1: 500, 2: 500, 3: 500}\n",
    "\n",
    "customers = customer_demand.keys()\n",
    "\n",
    "factories = factory_capacity.keys()\n",
    "\n",
    "transportation_cost = {\n",
    "    (1, 1): 4,\n",
    "    (1, 2): 6,\n",
    "    (1, 3): 9,\n",
    "    (2, 1): 5,\n",
    "    (2, 2): 4,\n",
    "    (2, 3): 7,\n",
    "    (3, 1): 6,\n",
    "    (3, 2): 3,\n",
    "    (3, 3): 3,\n",
    "    (4, 1): 8,\n",
    "    (4, 2): 5,\n",
    "    (4, 3): 3,\n",
    "    (5, 1): 10,\n",
    "    (5, 2): 8,\n",
    "    (5, 3): 4,\n",
    "}"
   ]
  },
  {
   "cell_type": "code",
   "execution_count": 3,
   "metadata": {},
   "outputs": [
    {
     "data": {
      "application/javascript": [
       "\n",
       "            setTimeout(function() {\n",
       "                var nbb_cell_id = 3;\n",
       "                var nbb_unformatted_code = \"goods = LpVariable.dicts(\\n    \\\"amount of goods\\\",\\n    ((customer, factory) for customer in customers for factory in factories),\\n    lowBound=0,\\n    cat=\\\"Integer\\\",\\n)\\n\\nfactory_goods = LpVariable.dicts(\\n    \\\"factory goods\\\", (factory for factory in factories), lowBound=0, cat=\\\"Integer\\\"\\n)\";\n",
       "                var nbb_formatted_code = \"goods = LpVariable.dicts(\\n    \\\"amount of goods\\\",\\n    ((customer, factory) for customer in customers for factory in factories),\\n    lowBound=0,\\n    cat=\\\"Integer\\\",\\n)\\n\\nfactory_goods = LpVariable.dicts(\\n    \\\"factory goods\\\", (factory for factory in factories), lowBound=0, cat=\\\"Integer\\\"\\n)\";\n",
       "                var nbb_cells = Jupyter.notebook.get_cells();\n",
       "                for (var i = 0; i < nbb_cells.length; ++i) {\n",
       "                    if (nbb_cells[i].input_prompt_number == nbb_cell_id) {\n",
       "                        if (nbb_cells[i].get_text() == nbb_unformatted_code) {\n",
       "                             nbb_cells[i].set_text(nbb_formatted_code);\n",
       "                        }\n",
       "                        break;\n",
       "                    }\n",
       "                }\n",
       "            }, 500);\n",
       "            "
      ],
      "text/plain": [
       "<IPython.core.display.Javascript object>"
      ]
     },
     "metadata": {},
     "output_type": "display_data"
    }
   ],
   "source": [
    "goods = LpVariable.dicts(\n",
    "    \"amount of goods\",\n",
    "    ((customer, factory) for customer in customers for factory in factories),\n",
    "    lowBound=0,\n",
    "    cat=\"Integer\",\n",
    ")\n",
    "\n",
    "factory_goods = LpVariable.dicts(\n",
    "    \"factory goods\", (factory for factory in factories), lowBound=0, cat=\"Integer\"\n",
    ")"
   ]
  },
  {
   "cell_type": "code",
   "execution_count": 4,
   "metadata": {},
   "outputs": [
    {
     "name": "stderr",
     "output_type": "stream",
     "text": [
      "/usr/local/lib/python3.7/site-packages/pulp/pulp.py:1137: UserWarning: Spaces are not permitted in the name. Converted to '_'\n",
      "  warnings.warn(\"Spaces are not permitted in the name. Converted to '_'\")\n"
     ]
    },
    {
     "data": {
      "application/javascript": [
       "\n",
       "            setTimeout(function() {\n",
       "                var nbb_cell_id = 4;\n",
       "                var nbb_unformatted_code = \"model = LpProblem(\\\"Transportation cost minimization\\\", LpMinimize)\\n\\n# Objective function\\nmodel += lpSum(\\n    [\\n        goods[customer, factory] * transportation_cost[customer, factory]\\n        for customer, factory in goods\\n    ]\\n)\";\n",
       "                var nbb_formatted_code = \"model = LpProblem(\\\"Transportation cost minimization\\\", LpMinimize)\\n\\n# Objective function\\nmodel += lpSum(\\n    [\\n        goods[customer, factory] * transportation_cost[customer, factory]\\n        for customer, factory in goods\\n    ]\\n)\";\n",
       "                var nbb_cells = Jupyter.notebook.get_cells();\n",
       "                for (var i = 0; i < nbb_cells.length; ++i) {\n",
       "                    if (nbb_cells[i].input_prompt_number == nbb_cell_id) {\n",
       "                        if (nbb_cells[i].get_text() == nbb_unformatted_code) {\n",
       "                             nbb_cells[i].set_text(nbb_formatted_code);\n",
       "                        }\n",
       "                        break;\n",
       "                    }\n",
       "                }\n",
       "            }, 500);\n",
       "            "
      ],
      "text/plain": [
       "<IPython.core.display.Javascript object>"
      ]
     },
     "metadata": {},
     "output_type": "display_data"
    }
   ],
   "source": [
    "model = LpProblem(\"Transportation cost minimization\", LpMinimize)\n",
    "\n",
    "# Objective function\n",
    "model += lpSum(\n",
    "    [\n",
    "        goods[customer, factory] * transportation_cost[customer, factory]\n",
    "        for customer, factory in goods\n",
    "    ]\n",
    ")"
   ]
  },
  {
   "cell_type": "code",
   "execution_count": 5,
   "metadata": {},
   "outputs": [
    {
     "data": {
      "application/javascript": [
       "\n",
       "            setTimeout(function() {\n",
       "                var nbb_cell_id = 5;\n",
       "                var nbb_unformatted_code = \"# Constraint: sum of goods == customer demand\\nfor customer in customers:\\n    model += (\\n        lpSum(\\n            [\\n                goods[customer, factory]\\n                for factory in factories\\n                if (customer, factory) in goods\\n            ]\\n        )\\n        == customer_demand[customer]\\n    )\\n\\n# Constraint: sum of goods <= factory capacity\\nfor factory in factories:\\n    for customer in customers:\\n        factory_goods[factory] += lpSum([goods[customer, factory]])\\n    model += factory_goods[factory] <= factory_capacity[factory]\";\n",
       "                var nbb_formatted_code = \"# Constraint: sum of goods == customer demand\\nfor customer in customers:\\n    model += (\\n        lpSum(\\n            [\\n                goods[customer, factory]\\n                for factory in factories\\n                if (customer, factory) in goods\\n            ]\\n        )\\n        == customer_demand[customer]\\n    )\\n\\n# Constraint: sum of goods <= factory capacity\\nfor factory in factories:\\n    for customer in customers:\\n        factory_goods[factory] += lpSum([goods[customer, factory]])\\n    model += factory_goods[factory] <= factory_capacity[factory]\";\n",
       "                var nbb_cells = Jupyter.notebook.get_cells();\n",
       "                for (var i = 0; i < nbb_cells.length; ++i) {\n",
       "                    if (nbb_cells[i].input_prompt_number == nbb_cell_id) {\n",
       "                        if (nbb_cells[i].get_text() == nbb_unformatted_code) {\n",
       "                             nbb_cells[i].set_text(nbb_formatted_code);\n",
       "                        }\n",
       "                        break;\n",
       "                    }\n",
       "                }\n",
       "            }, 500);\n",
       "            "
      ],
      "text/plain": [
       "<IPython.core.display.Javascript object>"
      ]
     },
     "metadata": {},
     "output_type": "display_data"
    }
   ],
   "source": [
    "# Constraint: sum of goods == customer demand\n",
    "for customer in customers:\n",
    "    model += (\n",
    "        lpSum(\n",
    "            [\n",
    "                goods[customer, factory]\n",
    "                for factory in factories\n",
    "                if (customer, factory) in goods\n",
    "            ]\n",
    "        )\n",
    "        == customer_demand[customer]\n",
    "    )\n",
    "\n",
    "# Constraint: sum of goods <= factory capacity\n",
    "for factory in factories:\n",
    "    for customer in customers:\n",
    "        factory_goods[factory] += lpSum([goods[customer, factory]])\n",
    "    model += factory_goods[factory] <= factory_capacity[factory]"
   ]
  },
  {
   "cell_type": "code",
   "execution_count": 6,
   "metadata": {},
   "outputs": [
    {
     "data": {
      "text/plain": [
       "'Optimal'"
      ]
     },
     "execution_count": 6,
     "metadata": {},
     "output_type": "execute_result"
    },
    {
     "data": {
      "application/javascript": [
       "\n",
       "            setTimeout(function() {\n",
       "                var nbb_cell_id = 6;\n",
       "                var nbb_unformatted_code = \"model.solve()\\n\\nLpStatus[model.status]\";\n",
       "                var nbb_formatted_code = \"model.solve()\\n\\nLpStatus[model.status]\";\n",
       "                var nbb_cells = Jupyter.notebook.get_cells();\n",
       "                for (var i = 0; i < nbb_cells.length; ++i) {\n",
       "                    if (nbb_cells[i].input_prompt_number == nbb_cell_id) {\n",
       "                        if (nbb_cells[i].get_text() == nbb_unformatted_code) {\n",
       "                             nbb_cells[i].set_text(nbb_formatted_code);\n",
       "                        }\n",
       "                        break;\n",
       "                    }\n",
       "                }\n",
       "            }, 500);\n",
       "            "
      ],
      "text/plain": [
       "<IPython.core.display.Javascript object>"
      ]
     },
     "metadata": {},
     "output_type": "display_data"
    }
   ],
   "source": [
    "model.solve()\n",
    "\n",
    "LpStatus[model.status]"
   ]
  },
  {
   "cell_type": "code",
   "execution_count": 7,
   "metadata": {},
   "outputs": [
    {
     "data": {
      "text/plain": [
       "3350.0"
      ]
     },
     "execution_count": 7,
     "metadata": {},
     "output_type": "execute_result"
    },
    {
     "data": {
      "application/javascript": [
       "\n",
       "            setTimeout(function() {\n",
       "                var nbb_cell_id = 7;\n",
       "                var nbb_unformatted_code = \"value(model.objective)\";\n",
       "                var nbb_formatted_code = \"value(model.objective)\";\n",
       "                var nbb_cells = Jupyter.notebook.get_cells();\n",
       "                for (var i = 0; i < nbb_cells.length; ++i) {\n",
       "                    if (nbb_cells[i].input_prompt_number == nbb_cell_id) {\n",
       "                        if (nbb_cells[i].get_text() == nbb_unformatted_code) {\n",
       "                             nbb_cells[i].set_text(nbb_formatted_code);\n",
       "                        }\n",
       "                        break;\n",
       "                    }\n",
       "                }\n",
       "            }, 500);\n",
       "            "
      ],
      "text/plain": [
       "<IPython.core.display.Javascript object>"
      ]
     },
     "metadata": {},
     "output_type": "display_data"
    }
   ],
   "source": [
    "value(model.objective)"
   ]
  },
  {
   "cell_type": "code",
   "execution_count": 9,
   "metadata": {},
   "outputs": [
    {
     "data": {
      "text/html": [
       "<div>\n",
       "<style scoped>\n",
       "    .dataframe tbody tr th:only-of-type {\n",
       "        vertical-align: middle;\n",
       "    }\n",
       "\n",
       "    .dataframe tbody tr th {\n",
       "        vertical-align: top;\n",
       "    }\n",
       "\n",
       "    .dataframe thead th {\n",
       "        text-align: right;\n",
       "    }\n",
       "</style>\n",
       "<table border=\"1\" class=\"dataframe\">\n",
       "  <thead>\n",
       "    <tr style=\"text-align: right;\">\n",
       "      <th></th>\n",
       "      <th>customer</th>\n",
       "      <th>factory</th>\n",
       "      <th>customer_amount</th>\n",
       "    </tr>\n",
       "  </thead>\n",
       "  <tbody>\n",
       "    <tr>\n",
       "      <th>0</th>\n",
       "      <td>1</td>\n",
       "      <td>1</td>\n",
       "      <td>80.0</td>\n",
       "    </tr>\n",
       "    <tr>\n",
       "      <th>1</th>\n",
       "      <td>2</td>\n",
       "      <td>2</td>\n",
       "      <td>270.0</td>\n",
       "    </tr>\n",
       "    <tr>\n",
       "      <th>2</th>\n",
       "      <td>3</td>\n",
       "      <td>2</td>\n",
       "      <td>230.0</td>\n",
       "    </tr>\n",
       "    <tr>\n",
       "      <th>3</th>\n",
       "      <td>3</td>\n",
       "      <td>3</td>\n",
       "      <td>20.0</td>\n",
       "    </tr>\n",
       "    <tr>\n",
       "      <th>4</th>\n",
       "      <td>4</td>\n",
       "      <td>3</td>\n",
       "      <td>160.0</td>\n",
       "    </tr>\n",
       "    <tr>\n",
       "      <th>5</th>\n",
       "      <td>5</td>\n",
       "      <td>3</td>\n",
       "      <td>180.0</td>\n",
       "    </tr>\n",
       "  </tbody>\n",
       "</table>\n",
       "</div>"
      ],
      "text/plain": [
       "   customer  factory  customer_amount\n",
       "0         1        1             80.0\n",
       "1         2        2            270.0\n",
       "2         3        2            230.0\n",
       "3         3        3             20.0\n",
       "4         4        3            160.0\n",
       "5         5        3            180.0"
      ]
     },
     "execution_count": 9,
     "metadata": {},
     "output_type": "execute_result"
    },
    {
     "data": {
      "application/javascript": [
       "\n",
       "            setTimeout(function() {\n",
       "                var nbb_cell_id = 9;\n",
       "                var nbb_unformatted_code = \"output = []\\n\\nfor (customer, factory) in goods:\\n    customer_amount = goods[customer, factory].varValue\\n    if customer_amount > 0:\\n        output.append([customer, factory, customer_amount])\\n\\noutput = pd.DataFrame(output, columns=[\\\"customer\\\", \\\"factory\\\", \\\"customer_amount\\\"])\\noutput.sort_values([\\\"customer\\\", \\\"factory\\\", \\\"customer_amount\\\"], ascending=True)\";\n",
       "                var nbb_formatted_code = \"output = []\\n\\nfor (customer, factory) in goods:\\n    customer_amount = goods[customer, factory].varValue\\n    if customer_amount > 0:\\n        output.append([customer, factory, customer_amount])\\n\\noutput = pd.DataFrame(output, columns=[\\\"customer\\\", \\\"factory\\\", \\\"customer_amount\\\"])\\noutput.sort_values([\\\"customer\\\", \\\"factory\\\", \\\"customer_amount\\\"], ascending=True)\";\n",
       "                var nbb_cells = Jupyter.notebook.get_cells();\n",
       "                for (var i = 0; i < nbb_cells.length; ++i) {\n",
       "                    if (nbb_cells[i].input_prompt_number == nbb_cell_id) {\n",
       "                        if (nbb_cells[i].get_text() == nbb_unformatted_code) {\n",
       "                             nbb_cells[i].set_text(nbb_formatted_code);\n",
       "                        }\n",
       "                        break;\n",
       "                    }\n",
       "                }\n",
       "            }, 500);\n",
       "            "
      ],
      "text/plain": [
       "<IPython.core.display.Javascript object>"
      ]
     },
     "metadata": {},
     "output_type": "display_data"
    }
   ],
   "source": [
    "output = []\n",
    "\n",
    "for (customer, factory) in goods:\n",
    "    customer_amount = goods[customer, factory].varValue\n",
    "    if customer_amount > 0:\n",
    "        output.append([customer, factory, customer_amount])\n",
    "\n",
    "output = pd.DataFrame(output, columns=[\"customer\", \"factory\", \"customer_amount\"])\n",
    "output.sort_values([\"customer\", \"factory\", \"customer_amount\"], ascending=True)"
   ]
  },
  {
   "cell_type": "code",
   "execution_count": null,
   "metadata": {},
   "outputs": [],
   "source": []
  }
 ],
 "metadata": {
  "kernelspec": {
   "display_name": "Python 3",
   "language": "python",
   "name": "python3"
  },
  "language_info": {
   "codemirror_mode": {
    "name": "ipython",
    "version": 3
   },
   "file_extension": ".py",
   "mimetype": "text/x-python",
   "name": "python",
   "nbconvert_exporter": "python",
   "pygments_lexer": "ipython3",
   "version": "3.7.7"
  }
 },
 "nbformat": 4,
 "nbformat_minor": 2
}
