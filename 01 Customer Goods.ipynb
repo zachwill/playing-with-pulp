{
 "cells": [
  {
   "cell_type": "markdown",
   "metadata": {},
   "source": [
    "__Optimization Modeling using `PuLP`__\n",
    "\n",
    "https://medium.com/analytics-vidhya/optimization-modelling-in-python-scipy-pulp-and-pyomo-d392376109f4"
   ]
  },
  {
   "cell_type": "code",
   "execution_count": 1,
   "metadata": {},
   "outputs": [
    {
     "data": {
      "application/javascript": [
       "\n",
       "            setTimeout(function() {\n",
       "                var nbb_cell_id = 1;\n",
       "                var nbb_unformatted_code = \"%load_ext nb_black\\n\\nimport sys\\nimport numpy as np\\nimport pandas as pd\\nimport pulp\\n\\ncustomer_demand = {1: 80, 2: 270, 3: 250, 4: 160, 5: 180}\\n\\nfactory_capacity = {1: 500, 2: 500, 3: 500}\\n\\ncustomers = customer_demand.keys()\\n\\nfactories = factory_capacity.keys()\\n\\ntransportation_cost = {\\n    (1, 1): 4,\\n    (1, 2): 6,\\n    (1, 3): 9,\\n    (2, 1): 5,\\n    (2, 2): 4,\\n    (2, 3): 7,\\n    (3, 1): 6,\\n    (3, 2): 3,\\n    (3, 3): 3,\\n    (4, 1): 8,\\n    (4, 2): 5,\\n    (4, 3): 3,\\n    (5, 1): 10,\\n    (5, 2): 8,\\n    (5, 3): 4,\\n}\";\n",
       "                var nbb_formatted_code = \"%load_ext nb_black\\n\\nimport sys\\nimport numpy as np\\nimport pandas as pd\\nimport pulp\\n\\ncustomer_demand = {1: 80, 2: 270, 3: 250, 4: 160, 5: 180}\\n\\nfactory_capacity = {1: 500, 2: 500, 3: 500}\\n\\ncustomers = customer_demand.keys()\\n\\nfactories = factory_capacity.keys()\\n\\ntransportation_cost = {\\n    (1, 1): 4,\\n    (1, 2): 6,\\n    (1, 3): 9,\\n    (2, 1): 5,\\n    (2, 2): 4,\\n    (2, 3): 7,\\n    (3, 1): 6,\\n    (3, 2): 3,\\n    (3, 3): 3,\\n    (4, 1): 8,\\n    (4, 2): 5,\\n    (4, 3): 3,\\n    (5, 1): 10,\\n    (5, 2): 8,\\n    (5, 3): 4,\\n}\";\n",
       "                var nbb_cells = Jupyter.notebook.get_cells();\n",
       "                for (var i = 0; i < nbb_cells.length; ++i) {\n",
       "                    if (nbb_cells[i].input_prompt_number == nbb_cell_id) {\n",
       "                        if (nbb_cells[i].get_text() == nbb_unformatted_code) {\n",
       "                             nbb_cells[i].set_text(nbb_formatted_code);\n",
       "                        }\n",
       "                        break;\n",
       "                    }\n",
       "                }\n",
       "            }, 500);\n",
       "            "
      ],
      "text/plain": [
       "<IPython.core.display.Javascript object>"
      ]
     },
     "metadata": {},
     "output_type": "display_data"
    }
   ],
   "source": [
    "%load_ext nb_black\n",
    "\n",
    "import sys\n",
    "import numpy as np\n",
    "import pandas as pd\n",
    "import pulp\n",
    "\n",
    "customer_demand = {1: 80, 2: 270, 3: 250, 4: 160, 5: 180}\n",
    "\n",
    "factory_capacity = {1: 500, 2: 500, 3: 500}\n",
    "\n",
    "customers = customer_demand.keys()\n",
    "\n",
    "factories = factory_capacity.keys()\n",
    "\n",
    "transportation_cost = {\n",
    "    (1, 1): 4,\n",
    "    (1, 2): 6,\n",
    "    (1, 3): 9,\n",
    "    (2, 1): 5,\n",
    "    (2, 2): 4,\n",
    "    (2, 3): 7,\n",
    "    (3, 1): 6,\n",
    "    (3, 2): 3,\n",
    "    (3, 3): 3,\n",
    "    (4, 1): 8,\n",
    "    (4, 2): 5,\n",
    "    (4, 3): 3,\n",
    "    (5, 1): 10,\n",
    "    (5, 2): 8,\n",
    "    (5, 3): 4,\n",
    "}"
   ]
  },
  {
   "cell_type": "code",
   "execution_count": 2,
   "metadata": {},
   "outputs": [
    {
     "data": {
      "application/javascript": [
       "\n",
       "            setTimeout(function() {\n",
       "                var nbb_cell_id = 2;\n",
       "                var nbb_unformatted_code = \"goods = pulp.LpVariable.dicts(\\n    \\\"amount of goods\\\",\\n    ((customer, factory) for customer in customers for factory in factories),\\n    lowBound=0,\\n    cat=\\\"Continuous\\\",\\n)\";\n",
       "                var nbb_formatted_code = \"goods = pulp.LpVariable.dicts(\\n    \\\"amount of goods\\\",\\n    ((customer, factory) for customer in customers for factory in factories),\\n    lowBound=0,\\n    cat=\\\"Continuous\\\",\\n)\";\n",
       "                var nbb_cells = Jupyter.notebook.get_cells();\n",
       "                for (var i = 0; i < nbb_cells.length; ++i) {\n",
       "                    if (nbb_cells[i].input_prompt_number == nbb_cell_id) {\n",
       "                        if (nbb_cells[i].get_text() == nbb_unformatted_code) {\n",
       "                             nbb_cells[i].set_text(nbb_formatted_code);\n",
       "                        }\n",
       "                        break;\n",
       "                    }\n",
       "                }\n",
       "            }, 500);\n",
       "            "
      ],
      "text/plain": [
       "<IPython.core.display.Javascript object>"
      ]
     },
     "metadata": {},
     "output_type": "display_data"
    }
   ],
   "source": [
    "goods = pulp.LpVariable.dicts(\n",
    "    \"amount of goods\",\n",
    "    ((customer, factory) for customer in customers for factory in factories),\n",
    "    lowBound=0,\n",
    "    cat=\"Continuous\",\n",
    ")"
   ]
  },
  {
   "cell_type": "code",
   "execution_count": 34,
   "metadata": {},
   "outputs": [
    {
     "data": {
      "application/javascript": [
       "\n",
       "            setTimeout(function() {\n",
       "                var nbb_cell_id = 34;\n",
       "                var nbb_unformatted_code = \"objective = pulp.LpAffineExpression(\\n    e=[\\n        (goods[customer, factory], transportation_cost[customer, factory])\\n        for customer, factory in goods\\n    ],\\n    name=\\\"Objective function\\\",\\n)\\n\\nmodel = pulp.LpProblem(name=\\\"Transportation cost minimization\\\", sense=pulp.LpMinimize)\\nmodel += pulp.lpSum(objective)\";\n",
       "                var nbb_formatted_code = \"objective = pulp.LpAffineExpression(\\n    e=[\\n        (goods[customer, factory], transportation_cost[customer, factory])\\n        for customer, factory in goods\\n    ],\\n    name=\\\"Objective function\\\",\\n)\\n\\nmodel = pulp.LpProblem(name=\\\"Transportation cost minimization\\\", sense=pulp.LpMinimize)\\nmodel += pulp.lpSum(objective)\";\n",
       "                var nbb_cells = Jupyter.notebook.get_cells();\n",
       "                for (var i = 0; i < nbb_cells.length; ++i) {\n",
       "                    if (nbb_cells[i].input_prompt_number == nbb_cell_id) {\n",
       "                        if (nbb_cells[i].get_text() == nbb_unformatted_code) {\n",
       "                             nbb_cells[i].set_text(nbb_formatted_code);\n",
       "                        }\n",
       "                        break;\n",
       "                    }\n",
       "                }\n",
       "            }, 500);\n",
       "            "
      ],
      "text/plain": [
       "<IPython.core.display.Javascript object>"
      ]
     },
     "metadata": {},
     "output_type": "display_data"
    }
   ],
   "source": [
    "objective = pulp.LpAffineExpression(\n",
    "    e=[\n",
    "        (goods[customer, factory], transportation_cost[customer, factory])\n",
    "        for customer, factory in goods\n",
    "    ],\n",
    "    name=\"Objective function\",\n",
    ")\n",
    "\n",
    "model = pulp.LpProblem(name=\"Transportation cost minimization\", sense=pulp.LpMinimize)\n",
    "model += pulp.lpSum(objective)"
   ]
  },
  {
   "cell_type": "code",
   "execution_count": 35,
   "metadata": {},
   "outputs": [
    {
     "data": {
      "application/javascript": [
       "\n",
       "            setTimeout(function() {\n",
       "                var nbb_cell_id = 35;\n",
       "                var nbb_unformatted_code = \"# Constraint: sum of goods == customer demand\\nfor customer in customers:\\n    expression = pulp.LpAffineExpression(\\n        e=[\\n            (goods[customer, factory], 1)\\n            for factory in factories\\n            if (customer, factory) in goods\\n        ]\\n    )\\n    constraint = pulp.LpConstraint(\\n        e=pulp.lpSum(tmpExpression),\\n        sense=pulp.LpConstraintEQ,\\n        rhs=customer_demand[customer],\\n    )\\n    model.addConstraint(constraint)\\n\\n    # Constraint: sum of goods <= factory capacity\\n    for factory in factories:\\n        tmpExpression = pulp.LpAffineExpression(\\n            e=[\\n                (goods[customer, factory], 1)\\n                for factory in factories\\n                if (customer, factory) in goods\\n            ]\\n        )\\n        tmpConstraint = pulp.LpConstraint(\\n            e=pulp.lpSum(tmpExpression),\\n            sense=pulp.LpConstraintLE,\\n            rhs=factory_capacity[factory],\\n        )\\n        model.addConstraint(tmpConstraint)\";\n",
       "                var nbb_formatted_code = \"# Constraint: sum of goods == customer demand\\nfor customer in customers:\\n    expression = pulp.LpAffineExpression(\\n        e=[\\n            (goods[customer, factory], 1)\\n            for factory in factories\\n            if (customer, factory) in goods\\n        ]\\n    )\\n    constraint = pulp.LpConstraint(\\n        e=pulp.lpSum(tmpExpression),\\n        sense=pulp.LpConstraintEQ,\\n        rhs=customer_demand[customer],\\n    )\\n    model.addConstraint(constraint)\\n\\n    # Constraint: sum of goods <= factory capacity\\n    for factory in factories:\\n        tmpExpression = pulp.LpAffineExpression(\\n            e=[\\n                (goods[customer, factory], 1)\\n                for factory in factories\\n                if (customer, factory) in goods\\n            ]\\n        )\\n        tmpConstraint = pulp.LpConstraint(\\n            e=pulp.lpSum(tmpExpression),\\n            sense=pulp.LpConstraintLE,\\n            rhs=factory_capacity[factory],\\n        )\\n        model.addConstraint(tmpConstraint)\";\n",
       "                var nbb_cells = Jupyter.notebook.get_cells();\n",
       "                for (var i = 0; i < nbb_cells.length; ++i) {\n",
       "                    if (nbb_cells[i].input_prompt_number == nbb_cell_id) {\n",
       "                        if (nbb_cells[i].get_text() == nbb_unformatted_code) {\n",
       "                             nbb_cells[i].set_text(nbb_formatted_code);\n",
       "                        }\n",
       "                        break;\n",
       "                    }\n",
       "                }\n",
       "            }, 500);\n",
       "            "
      ],
      "text/plain": [
       "<IPython.core.display.Javascript object>"
      ]
     },
     "metadata": {},
     "output_type": "display_data"
    }
   ],
   "source": [
    "# Constraint: sum of goods == customer demand\n",
    "for customer in customers:\n",
    "    expression = pulp.LpAffineExpression(\n",
    "        e=[\n",
    "            (goods[customer, factory], 1)\n",
    "            for factory in factories\n",
    "            if (customer, factory) in goods\n",
    "        ]\n",
    "    )\n",
    "    constraint = pulp.LpConstraint(\n",
    "        e=pulp.lpSum(tmpExpression),\n",
    "        sense=pulp.LpConstraintEQ,\n",
    "        rhs=customer_demand[customer],\n",
    "    )\n",
    "    model.addConstraint(constraint)\n",
    "\n",
    "    # Constraint: sum of goods <= factory capacity\n",
    "    for factory in factories:\n",
    "        tmpExpression = pulp.LpAffineExpression(\n",
    "            e=[\n",
    "                (goods[customer, factory], 1)\n",
    "                for factory in factories\n",
    "                if (customer, factory) in goods\n",
    "            ]\n",
    "        )\n",
    "        tmpConstraint = pulp.LpConstraint(\n",
    "            e=pulp.lpSum(tmpExpression),\n",
    "            sense=pulp.LpConstraintLE,\n",
    "            rhs=factory_capacity[factory],\n",
    "        )\n",
    "        model.addConstraint(tmpConstraint)"
   ]
  },
  {
   "cell_type": "code",
   "execution_count": 36,
   "metadata": {},
   "outputs": [
    {
     "data": {
      "application/javascript": [
       "\n",
       "            setTimeout(function() {\n",
       "                var nbb_cell_id = 36;\n",
       "                var nbb_unformatted_code = \"results = model.solve()\";\n",
       "                var nbb_formatted_code = \"results = model.solve()\";\n",
       "                var nbb_cells = Jupyter.notebook.get_cells();\n",
       "                for (var i = 0; i < nbb_cells.length; ++i) {\n",
       "                    if (nbb_cells[i].input_prompt_number == nbb_cell_id) {\n",
       "                        if (nbb_cells[i].get_text() == nbb_unformatted_code) {\n",
       "                             nbb_cells[i].set_text(nbb_formatted_code);\n",
       "                        }\n",
       "                        break;\n",
       "                    }\n",
       "                }\n",
       "            }, 500);\n",
       "            "
      ],
      "text/plain": [
       "<IPython.core.display.Javascript object>"
      ]
     },
     "metadata": {},
     "output_type": "display_data"
    }
   ],
   "source": [
    "results = model.solve()"
   ]
  },
  {
   "cell_type": "code",
   "execution_count": 37,
   "metadata": {},
   "outputs": [
    {
     "data": {
      "text/plain": [
       "1"
      ]
     },
     "execution_count": 37,
     "metadata": {},
     "output_type": "execute_result"
    },
    {
     "data": {
      "application/javascript": [
       "\n",
       "            setTimeout(function() {\n",
       "                var nbb_cell_id = 37;\n",
       "                var nbb_unformatted_code = \"results\";\n",
       "                var nbb_formatted_code = \"results\";\n",
       "                var nbb_cells = Jupyter.notebook.get_cells();\n",
       "                for (var i = 0; i < nbb_cells.length; ++i) {\n",
       "                    if (nbb_cells[i].input_prompt_number == nbb_cell_id) {\n",
       "                        if (nbb_cells[i].get_text() == nbb_unformatted_code) {\n",
       "                             nbb_cells[i].set_text(nbb_formatted_code);\n",
       "                        }\n",
       "                        break;\n",
       "                    }\n",
       "                }\n",
       "            }, 500);\n",
       "            "
      ],
      "text/plain": [
       "<IPython.core.display.Javascript object>"
      ]
     },
     "metadata": {},
     "output_type": "display_data"
    }
   ],
   "source": [
    "results"
   ]
  },
  {
   "cell_type": "code",
   "execution_count": 38,
   "metadata": {},
   "outputs": [
    {
     "name": "stdout",
     "output_type": "stream",
     "text": [
      "Solution is optimal: Optimal\n",
      "Objective function value = 3420.0\n",
      "Sending quantity 270.0 from factory 1 to customer 1\n",
      "Sending quantity 250.0 from factory 2 to customer 2\n",
      "Sending quantity 160.0 from factory 2 to customer 3\n",
      "Sending quantity 180.0 from factory 3 to customer 4\n",
      "Sending quantity  80.0 from factory 3 to customer 5\n"
     ]
    },
    {
     "data": {
      "application/javascript": [
       "\n",
       "            setTimeout(function() {\n",
       "                var nbb_cell_id = 38;\n",
       "                var nbb_unformatted_code = \"if model.status == 1:\\n    print(f\\\"Solution is optimal: {pulp.LpStatus[model.status]}\\\")\\nelse:\\n    print(f\\\"Failed to find solution: {pulp.LpStatus[model.status]}\\\")\\nprint(f\\\"Objective function value = {pulp.value(model.objective)}\\\")\\n\\nEPS = 1.0e-6\\n\\nfor (customer, factory) in goods:\\n    customer_amount = goods[customer, factory].varValue\\n    if customer_amount > EPS:\\n        print(\\n            f\\\"Sending quantity {customer_amount:>5} from factory {factory} to customer {customer}\\\"\\n        )\";\n",
       "                var nbb_formatted_code = \"if model.status == 1:\\n    print(f\\\"Solution is optimal: {pulp.LpStatus[model.status]}\\\")\\nelse:\\n    print(f\\\"Failed to find solution: {pulp.LpStatus[model.status]}\\\")\\nprint(f\\\"Objective function value = {pulp.value(model.objective)}\\\")\\n\\nEPS = 1.0e-6\\n\\nfor (customer, factory) in goods:\\n    customer_amount = goods[customer, factory].varValue\\n    if customer_amount > EPS:\\n        print(\\n            f\\\"Sending quantity {customer_amount:>5} from factory {factory} to customer {customer}\\\"\\n        )\";\n",
       "                var nbb_cells = Jupyter.notebook.get_cells();\n",
       "                for (var i = 0; i < nbb_cells.length; ++i) {\n",
       "                    if (nbb_cells[i].input_prompt_number == nbb_cell_id) {\n",
       "                        if (nbb_cells[i].get_text() == nbb_unformatted_code) {\n",
       "                             nbb_cells[i].set_text(nbb_formatted_code);\n",
       "                        }\n",
       "                        break;\n",
       "                    }\n",
       "                }\n",
       "            }, 500);\n",
       "            "
      ],
      "text/plain": [
       "<IPython.core.display.Javascript object>"
      ]
     },
     "metadata": {},
     "output_type": "display_data"
    }
   ],
   "source": [
    "if model.status == 1:\n",
    "    print(f\"Solution is optimal: {pulp.LpStatus[model.status]}\")\n",
    "else:\n",
    "    print(f\"Failed to find solution: {pulp.LpStatus[model.status]}\")\n",
    "print(f\"Objective function value = {pulp.value(model.objective)}\")\n",
    "\n",
    "EPS = 1.0e-6\n",
    "\n",
    "for (customer, factory) in goods:\n",
    "    customer_amount = goods[customer, factory].varValue\n",
    "    if customer_amount > EPS:\n",
    "        print(\n",
    "            f\"Sending quantity {customer_amount:>5} from factory {factory} to customer {customer}\"\n",
    "        )"
   ]
  },
  {
   "cell_type": "code",
   "execution_count": null,
   "metadata": {},
   "outputs": [],
   "source": []
  }
 ],
 "metadata": {
  "kernelspec": {
   "display_name": "Python 3",
   "language": "python",
   "name": "python3"
  },
  "language_info": {
   "codemirror_mode": {
    "name": "ipython",
    "version": 3
   },
   "file_extension": ".py",
   "mimetype": "text/x-python",
   "name": "python",
   "nbconvert_exporter": "python",
   "pygments_lexer": "ipython3",
   "version": "3.7.7"
  }
 },
 "nbformat": 4,
 "nbformat_minor": 2
}
