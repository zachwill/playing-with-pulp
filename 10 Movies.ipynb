{
 "cells": [
  {
   "cell_type": "markdown",
   "metadata": {},
   "source": [
    "__Movies__"
   ]
  },
  {
   "cell_type": "code",
   "execution_count": 1,
   "metadata": {},
   "outputs": [
    {
     "data": {
      "application/javascript": [
       "\n",
       "            setTimeout(function() {\n",
       "                var nbb_cell_id = 1;\n",
       "                var nbb_unformatted_code = \"%load_ext nb_black\\n\\nimport pandas as pd\\n\\nfrom pulp import LpProblem, LpStatus, LpVariable, LpAffineExpression\\nfrom pulp import LpBinary, LpMinimize, LpMaximize, lpSum, value\";\n",
       "                var nbb_formatted_code = \"%load_ext nb_black\\n\\nimport pandas as pd\\n\\nfrom pulp import LpProblem, LpStatus, LpVariable, LpAffineExpression\\nfrom pulp import LpBinary, LpMinimize, LpMaximize, lpSum, value\";\n",
       "                var nbb_cells = Jupyter.notebook.get_cells();\n",
       "                for (var i = 0; i < nbb_cells.length; ++i) {\n",
       "                    if (nbb_cells[i].input_prompt_number == nbb_cell_id) {\n",
       "                        if (nbb_cells[i].get_text() == nbb_unformatted_code) {\n",
       "                             nbb_cells[i].set_text(nbb_formatted_code);\n",
       "                        }\n",
       "                        break;\n",
       "                    }\n",
       "                }\n",
       "            }, 500);\n",
       "            "
      ],
      "text/plain": [
       "<IPython.core.display.Javascript object>"
      ]
     },
     "metadata": {},
     "output_type": "display_data"
    }
   ],
   "source": [
    "%load_ext nb_black\n",
    "\n",
    "import pandas as pd\n",
    "\n",
    "from pulp import LpProblem, LpStatus, LpVariable, LpAffineExpression\n",
    "from pulp import LpBinary, LpMinimize, LpMaximize, lpSum, value"
   ]
  },
  {
   "cell_type": "code",
   "execution_count": 7,
   "metadata": {},
   "outputs": [
    {
     "data": {
      "application/javascript": [
       "\n",
       "            setTimeout(function() {\n",
       "                var nbb_cell_id = 7;\n",
       "                var nbb_unformatted_code = \"# Tom and Sally want to go see a movie\\ndf = pd.DataFrame(\\n    [\\n        [\\\"Action\\\", 60, 10, 5],\\n        [\\\"British\\\", 80, 5, 9],\\n        [\\\"Comedy\\\", 70, 8, 8],\\n        [\\\"Romance\\\", 30, 5, 8],\\n    ],\\n    columns=[\\\"genre\\\", \\\"rotten_tomatoes\\\", \\\"Tom\\\", \\\"Sally\\\"],\\n)\";\n",
       "                var nbb_formatted_code = \"# Tom and Sally want to go see a movie\\ndf = pd.DataFrame(\\n    [\\n        [\\\"Action\\\", 60, 10, 5],\\n        [\\\"British\\\", 80, 5, 9],\\n        [\\\"Comedy\\\", 70, 8, 8],\\n        [\\\"Romance\\\", 30, 5, 8],\\n    ],\\n    columns=[\\\"genre\\\", \\\"rotten_tomatoes\\\", \\\"Tom\\\", \\\"Sally\\\"],\\n)\";\n",
       "                var nbb_cells = Jupyter.notebook.get_cells();\n",
       "                for (var i = 0; i < nbb_cells.length; ++i) {\n",
       "                    if (nbb_cells[i].input_prompt_number == nbb_cell_id) {\n",
       "                        if (nbb_cells[i].get_text() == nbb_unformatted_code) {\n",
       "                             nbb_cells[i].set_text(nbb_formatted_code);\n",
       "                        }\n",
       "                        break;\n",
       "                    }\n",
       "                }\n",
       "            }, 500);\n",
       "            "
      ],
      "text/plain": [
       "<IPython.core.display.Javascript object>"
      ]
     },
     "metadata": {},
     "output_type": "display_data"
    }
   ],
   "source": [
    "# Tom and Sally want to go see a movie\n",
    "df = pd.DataFrame(\n",
    "    [\n",
    "        [\"Action\", 60, 10, 5],\n",
    "        [\"British\", 80, 5, 9],\n",
    "        [\"Comedy\", 70, 8, 8],\n",
    "        [\"Romance\", 30, 5, 8],\n",
    "    ],\n",
    "    columns=[\"genre\", \"rotten_tomatoes\", \"Tom\", \"Sally\"],\n",
    ")"
   ]
  },
  {
   "cell_type": "code",
   "execution_count": 8,
   "metadata": {},
   "outputs": [
    {
     "data": {
      "application/javascript": [
       "\n",
       "            setTimeout(function() {\n",
       "                var nbb_cell_id = 8;\n",
       "                var nbb_unformatted_code = \"rotten_tomates = dict(zip(df.genre, df.rotten_tomatoes))\\ntom = dict(zip(df.genre, df.Tom))\\nsally = dict(zip(df.genre, df.Sally))\\n\\nmovie = LpVariable.dicts(\\\"movie\\\", df.genre, lowBound=0, cat=\\\"Integer\\\")\";\n",
       "                var nbb_formatted_code = \"rotten_tomates = dict(zip(df.genre, df.rotten_tomatoes))\\ntom = dict(zip(df.genre, df.Tom))\\nsally = dict(zip(df.genre, df.Sally))\\n\\nmovie = LpVariable.dicts(\\\"movie\\\", df.genre, lowBound=0, cat=\\\"Integer\\\")\";\n",
       "                var nbb_cells = Jupyter.notebook.get_cells();\n",
       "                for (var i = 0; i < nbb_cells.length; ++i) {\n",
       "                    if (nbb_cells[i].input_prompt_number == nbb_cell_id) {\n",
       "                        if (nbb_cells[i].get_text() == nbb_unformatted_code) {\n",
       "                             nbb_cells[i].set_text(nbb_formatted_code);\n",
       "                        }\n",
       "                        break;\n",
       "                    }\n",
       "                }\n",
       "            }, 500);\n",
       "            "
      ],
      "text/plain": [
       "<IPython.core.display.Javascript object>"
      ]
     },
     "metadata": {},
     "output_type": "display_data"
    }
   ],
   "source": [
    "rotten_tomates = dict(zip(df.genre, df.rotten_tomatoes))\n",
    "tom = dict(zip(df.genre, df.Tom))\n",
    "sally = dict(zip(df.genre, df.Sally))\n",
    "\n",
    "movie = LpVariable.dicts(\"movie\", df.genre, lowBound=0, cat=\"Integer\")"
   ]
  },
  {
   "cell_type": "code",
   "execution_count": 15,
   "metadata": {},
   "outputs": [
    {
     "data": {
      "application/javascript": [
       "\n",
       "            setTimeout(function() {\n",
       "                var nbb_cell_id = 15;\n",
       "                var nbb_unformatted_code = \"model = LpProblem(\\\"Tom and Sally go to the movies\\\", LpMaximize)\\n\\nmodel += lpSum([movie[i] * rotten_tomates[i] * tom[i] * sally[i] for i in df.genre])\\n\\nmodel += lpSum([movie[i] for i in df.genre]) == 1\";\n",
       "                var nbb_formatted_code = \"model = LpProblem(\\\"Tom and Sally go to the movies\\\", LpMaximize)\\n\\nmodel += lpSum([movie[i] * rotten_tomates[i] * tom[i] * sally[i] for i in df.genre])\\n\\nmodel += lpSum([movie[i] for i in df.genre]) == 1\";\n",
       "                var nbb_cells = Jupyter.notebook.get_cells();\n",
       "                for (var i = 0; i < nbb_cells.length; ++i) {\n",
       "                    if (nbb_cells[i].input_prompt_number == nbb_cell_id) {\n",
       "                        if (nbb_cells[i].get_text() == nbb_unformatted_code) {\n",
       "                             nbb_cells[i].set_text(nbb_formatted_code);\n",
       "                        }\n",
       "                        break;\n",
       "                    }\n",
       "                }\n",
       "            }, 500);\n",
       "            "
      ],
      "text/plain": [
       "<IPython.core.display.Javascript object>"
      ]
     },
     "metadata": {},
     "output_type": "display_data"
    }
   ],
   "source": [
    "model = LpProblem(\"Tom and Sally go to the movies\", LpMaximize)\n",
    "\n",
    "model += lpSum([movie[i] * rotten_tomates[i] * tom[i] * sally[i] for i in df.genre])\n",
    "\n",
    "model += lpSum([movie[i] for i in df.genre]) == 1"
   ]
  },
  {
   "cell_type": "code",
   "execution_count": 16,
   "metadata": {},
   "outputs": [
    {
     "data": {
      "text/plain": [
       "'Optimal'"
      ]
     },
     "execution_count": 16,
     "metadata": {},
     "output_type": "execute_result"
    },
    {
     "data": {
      "application/javascript": [
       "\n",
       "            setTimeout(function() {\n",
       "                var nbb_cell_id = 16;\n",
       "                var nbb_unformatted_code = \"model.solve()\\n\\nLpStatus[model.status]\";\n",
       "                var nbb_formatted_code = \"model.solve()\\n\\nLpStatus[model.status]\";\n",
       "                var nbb_cells = Jupyter.notebook.get_cells();\n",
       "                for (var i = 0; i < nbb_cells.length; ++i) {\n",
       "                    if (nbb_cells[i].input_prompt_number == nbb_cell_id) {\n",
       "                        if (nbb_cells[i].get_text() == nbb_unformatted_code) {\n",
       "                             nbb_cells[i].set_text(nbb_formatted_code);\n",
       "                        }\n",
       "                        break;\n",
       "                    }\n",
       "                }\n",
       "            }, 500);\n",
       "            "
      ],
      "text/plain": [
       "<IPython.core.display.Javascript object>"
      ]
     },
     "metadata": {},
     "output_type": "display_data"
    }
   ],
   "source": [
    "model.solve()\n",
    "\n",
    "LpStatus[model.status]"
   ]
  },
  {
   "cell_type": "code",
   "execution_count": 17,
   "metadata": {},
   "outputs": [
    {
     "data": {
      "text/html": [
       "<div>\n",
       "<style scoped>\n",
       "    .dataframe tbody tr th:only-of-type {\n",
       "        vertical-align: middle;\n",
       "    }\n",
       "\n",
       "    .dataframe tbody tr th {\n",
       "        vertical-align: top;\n",
       "    }\n",
       "\n",
       "    .dataframe thead th {\n",
       "        text-align: right;\n",
       "    }\n",
       "</style>\n",
       "<table border=\"1\" class=\"dataframe\">\n",
       "  <thead>\n",
       "    <tr style=\"text-align: right;\">\n",
       "      <th></th>\n",
       "      <th>genre</th>\n",
       "      <th>decision</th>\n",
       "    </tr>\n",
       "  </thead>\n",
       "  <tbody>\n",
       "    <tr>\n",
       "      <th>0</th>\n",
       "      <td>Action</td>\n",
       "      <td>0.0</td>\n",
       "    </tr>\n",
       "    <tr>\n",
       "      <th>1</th>\n",
       "      <td>British</td>\n",
       "      <td>0.0</td>\n",
       "    </tr>\n",
       "    <tr>\n",
       "      <th>2</th>\n",
       "      <td>Comedy</td>\n",
       "      <td>1.0</td>\n",
       "    </tr>\n",
       "    <tr>\n",
       "      <th>3</th>\n",
       "      <td>Romance</td>\n",
       "      <td>0.0</td>\n",
       "    </tr>\n",
       "  </tbody>\n",
       "</table>\n",
       "</div>"
      ],
      "text/plain": [
       "     genre  decision\n",
       "0   Action       0.0\n",
       "1  British       0.0\n",
       "2   Comedy       1.0\n",
       "3  Romance       0.0"
      ]
     },
     "execution_count": 17,
     "metadata": {},
     "output_type": "execute_result"
    },
    {
     "data": {
      "application/javascript": [
       "\n",
       "            setTimeout(function() {\n",
       "                var nbb_cell_id = 17;\n",
       "                var nbb_unformatted_code = \"# What movie genre should they go see?\\n\\noutput = df[[\\\"genre\\\"]].copy()\\noutput[\\\"decision\\\"] = [movie[i].varValue for i in df.genre]\\noutput\";\n",
       "                var nbb_formatted_code = \"# What movie genre should they go see?\\n\\noutput = df[[\\\"genre\\\"]].copy()\\noutput[\\\"decision\\\"] = [movie[i].varValue for i in df.genre]\\noutput\";\n",
       "                var nbb_cells = Jupyter.notebook.get_cells();\n",
       "                for (var i = 0; i < nbb_cells.length; ++i) {\n",
       "                    if (nbb_cells[i].input_prompt_number == nbb_cell_id) {\n",
       "                        if (nbb_cells[i].get_text() == nbb_unformatted_code) {\n",
       "                             nbb_cells[i].set_text(nbb_formatted_code);\n",
       "                        }\n",
       "                        break;\n",
       "                    }\n",
       "                }\n",
       "            }, 500);\n",
       "            "
      ],
      "text/plain": [
       "<IPython.core.display.Javascript object>"
      ]
     },
     "metadata": {},
     "output_type": "display_data"
    }
   ],
   "source": [
    "# What movie genre should they go see?\n",
    "\n",
    "output = df[[\"genre\"]].copy()\n",
    "output[\"decision\"] = [movie[i].varValue for i in df.genre]\n",
    "output"
   ]
  }
 ],
 "metadata": {
  "kernelspec": {
   "display_name": "Python 3",
   "language": "python",
   "name": "python3"
  },
  "language_info": {
   "codemirror_mode": {
    "name": "ipython",
    "version": 3
   },
   "file_extension": ".py",
   "mimetype": "text/x-python",
   "name": "python",
   "nbconvert_exporter": "python",
   "pygments_lexer": "ipython3",
   "version": "3.7.7"
  }
 },
 "nbformat": 4,
 "nbformat_minor": 2
}
