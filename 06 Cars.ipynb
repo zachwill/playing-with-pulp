{
 "cells": [
  {
   "cell_type": "markdown",
   "metadata": {},
   "source": [
    "https://github.com/benalexkeen/Introduction-to-linear-programming/"
   ]
  },
  {
   "cell_type": "code",
   "execution_count": 1,
   "metadata": {},
   "outputs": [
    {
     "data": {
      "application/javascript": [
       "\n",
       "            setTimeout(function() {\n",
       "                var nbb_cell_id = 1;\n",
       "                var nbb_unformatted_code = \"%load_ext nb_black\\n\\nfrom pulp import LpProblem, LpStatus, LpVariable, lpSum, value\\nfrom pulp import LpBinary, LpMinimize, LpMaximize\";\n",
       "                var nbb_formatted_code = \"%load_ext nb_black\\n\\nfrom pulp import LpProblem, LpStatus, LpVariable, lpSum, value\\nfrom pulp import LpBinary, LpMinimize, LpMaximize\";\n",
       "                var nbb_cells = Jupyter.notebook.get_cells();\n",
       "                for (var i = 0; i < nbb_cells.length; ++i) {\n",
       "                    if (nbb_cells[i].input_prompt_number == nbb_cell_id) {\n",
       "                        if (nbb_cells[i].get_text() == nbb_unformatted_code) {\n",
       "                             nbb_cells[i].set_text(nbb_formatted_code);\n",
       "                        }\n",
       "                        break;\n",
       "                    }\n",
       "                }\n",
       "            }, 500);\n",
       "            "
      ],
      "text/plain": [
       "<IPython.core.display.Javascript object>"
      ]
     },
     "metadata": {},
     "output_type": "display_data"
    }
   ],
   "source": [
    "%load_ext nb_black\n",
    "\n",
    "from pulp import LpProblem, LpStatus, LpVariable, lpSum, value\n",
    "from pulp import LpBinary, LpMinimize, LpMaximize"
   ]
  },
  {
   "cell_type": "code",
   "execution_count": 3,
   "metadata": {},
   "outputs": [
    {
     "name": "stderr",
     "output_type": "stream",
     "text": [
      "/usr/local/lib/python3.7/site-packages/pulp/pulp.py:1137: UserWarning: Spaces are not permitted in the name. Converted to '_'\n",
      "  warnings.warn(\"Spaces are not permitted in the name. Converted to '_'\")\n"
     ]
    },
    {
     "data": {
      "application/javascript": [
       "\n",
       "            setTimeout(function() {\n",
       "                var nbb_cell_id = 3;\n",
       "                var nbb_unformatted_code = \"prob = LpProblem(\\\"Car Profit\\\", LpMaximize)\\n\\ncar_A = LpVariable(\\\"car_A\\\", lowBound=0, cat=\\\"Integer\\\")\\ncar_B = LpVariable(\\\"car_B\\\", lowBound=0, cat=\\\"Integer\\\")\";\n",
       "                var nbb_formatted_code = \"prob = LpProblem(\\\"Car Profit\\\", LpMaximize)\\n\\ncar_A = LpVariable(\\\"car_A\\\", lowBound=0, cat=\\\"Integer\\\")\\ncar_B = LpVariable(\\\"car_B\\\", lowBound=0, cat=\\\"Integer\\\")\";\n",
       "                var nbb_cells = Jupyter.notebook.get_cells();\n",
       "                for (var i = 0; i < nbb_cells.length; ++i) {\n",
       "                    if (nbb_cells[i].input_prompt_number == nbb_cell_id) {\n",
       "                        if (nbb_cells[i].get_text() == nbb_unformatted_code) {\n",
       "                             nbb_cells[i].set_text(nbb_formatted_code);\n",
       "                        }\n",
       "                        break;\n",
       "                    }\n",
       "                }\n",
       "            }, 500);\n",
       "            "
      ],
      "text/plain": [
       "<IPython.core.display.Javascript object>"
      ]
     },
     "metadata": {},
     "output_type": "display_data"
    }
   ],
   "source": [
    "prob = LpProblem(\"Car Profit\", LpMaximize)\n",
    "\n",
    "car_A = LpVariable(\"car_A\", lowBound=0, cat=\"Integer\")\n",
    "car_B = LpVariable(\"car_B\", lowBound=0, cat=\"Integer\")"
   ]
  },
  {
   "cell_type": "code",
   "execution_count": 4,
   "metadata": {},
   "outputs": [
    {
     "data": {
      "application/javascript": [
       "\n",
       "            setTimeout(function() {\n",
       "                var nbb_cell_id = 4;\n",
       "                var nbb_unformatted_code = \"# Objective function\\nprob += 30 * car_A + 45 * car_B, \\\"Profit\\\"\\n\\n# Constraints\\nprob += 3 * car_A + 4 * car_B <= 30, \\\"robot\\\"\\nprob += 5 * car_A + 6 * car_B <= 60, \\\"engineer\\\"\\nprob += 1.5 * car_A + 3 * car_B <= 21, \\\"dealership\\\"\";\n",
       "                var nbb_formatted_code = \"# Objective function\\nprob += 30 * car_A + 45 * car_B, \\\"Profit\\\"\\n\\n# Constraints\\nprob += 3 * car_A + 4 * car_B <= 30, \\\"robot\\\"\\nprob += 5 * car_A + 6 * car_B <= 60, \\\"engineer\\\"\\nprob += 1.5 * car_A + 3 * car_B <= 21, \\\"dealership\\\"\";\n",
       "                var nbb_cells = Jupyter.notebook.get_cells();\n",
       "                for (var i = 0; i < nbb_cells.length; ++i) {\n",
       "                    if (nbb_cells[i].input_prompt_number == nbb_cell_id) {\n",
       "                        if (nbb_cells[i].get_text() == nbb_unformatted_code) {\n",
       "                             nbb_cells[i].set_text(nbb_formatted_code);\n",
       "                        }\n",
       "                        break;\n",
       "                    }\n",
       "                }\n",
       "            }, 500);\n",
       "            "
      ],
      "text/plain": [
       "<IPython.core.display.Javascript object>"
      ]
     },
     "metadata": {},
     "output_type": "display_data"
    }
   ],
   "source": [
    "# Objective function\n",
    "prob += 30 * car_A + 45 * car_B, \"Profit\"\n",
    "\n",
    "# Constraints\n",
    "prob += 3 * car_A + 4 * car_B <= 30, \"robot\"\n",
    "prob += 5 * car_A + 6 * car_B <= 60, \"engineer\"\n",
    "prob += 1.5 * car_A + 3 * car_B <= 21, \"dealership\""
   ]
  },
  {
   "cell_type": "code",
   "execution_count": 5,
   "metadata": {},
   "outputs": [
    {
     "data": {
      "text/plain": [
       "'Optimal'"
      ]
     },
     "execution_count": 5,
     "metadata": {},
     "output_type": "execute_result"
    },
    {
     "data": {
      "application/javascript": [
       "\n",
       "            setTimeout(function() {\n",
       "                var nbb_cell_id = 5;\n",
       "                var nbb_unformatted_code = \"prob.solve()\\n\\nLpStatus[prob.status]\";\n",
       "                var nbb_formatted_code = \"prob.solve()\\n\\nLpStatus[prob.status]\";\n",
       "                var nbb_cells = Jupyter.notebook.get_cells();\n",
       "                for (var i = 0; i < nbb_cells.length; ++i) {\n",
       "                    if (nbb_cells[i].input_prompt_number == nbb_cell_id) {\n",
       "                        if (nbb_cells[i].get_text() == nbb_unformatted_code) {\n",
       "                             nbb_cells[i].set_text(nbb_formatted_code);\n",
       "                        }\n",
       "                        break;\n",
       "                    }\n",
       "                }\n",
       "            }, 500);\n",
       "            "
      ],
      "text/plain": [
       "<IPython.core.display.Javascript object>"
      ]
     },
     "metadata": {},
     "output_type": "display_data"
    }
   ],
   "source": [
    "prob.solve()\n",
    "\n",
    "LpStatus[prob.status]"
   ]
  },
  {
   "cell_type": "code",
   "execution_count": 12,
   "metadata": {},
   "outputs": [
    {
     "name": "stdout",
     "output_type": "stream",
     "text": [
      "car_A = 2\n",
      "car_B = 6\n",
      "\n",
      "Monthly Profit = 330.0k\n"
     ]
    },
    {
     "data": {
      "application/javascript": [
       "\n",
       "            setTimeout(function() {\n",
       "                var nbb_cell_id = 12;\n",
       "                var nbb_unformatted_code = \"for variable in prob.variables():\\n    print(f\\\"{variable.name} = {int(variable.varValue)}\\\")\\n\\nprint()\\nprint(f\\\"Monthly Profit = {value(prob.objective):>4}k\\\")\";\n",
       "                var nbb_formatted_code = \"for variable in prob.variables():\\n    print(f\\\"{variable.name} = {int(variable.varValue)}\\\")\\n\\nprint()\\nprint(f\\\"Monthly Profit = {value(prob.objective):>4}k\\\")\";\n",
       "                var nbb_cells = Jupyter.notebook.get_cells();\n",
       "                for (var i = 0; i < nbb_cells.length; ++i) {\n",
       "                    if (nbb_cells[i].input_prompt_number == nbb_cell_id) {\n",
       "                        if (nbb_cells[i].get_text() == nbb_unformatted_code) {\n",
       "                             nbb_cells[i].set_text(nbb_formatted_code);\n",
       "                        }\n",
       "                        break;\n",
       "                    }\n",
       "                }\n",
       "            }, 500);\n",
       "            "
      ],
      "text/plain": [
       "<IPython.core.display.Javascript object>"
      ]
     },
     "metadata": {},
     "output_type": "display_data"
    }
   ],
   "source": [
    "for variable in prob.variables():\n",
    "    print(f\"{variable.name} = {int(variable.varValue)}\")\n",
    "\n",
    "print()\n",
    "print(f\"Monthly Profit = {value(prob.objective):>4}k\")"
   ]
  },
  {
   "cell_type": "code",
   "execution_count": 13,
   "metadata": {},
   "outputs": [
    {
     "data": {
      "text/plain": [
       "<bound method LpProblem.variables of Car_Profit:\n",
       "MAXIMIZE\n",
       "30*car_A + 45*car_B + 0\n",
       "SUBJECT TO\n",
       "robot: 3 car_A + 4 car_B <= 30\n",
       "\n",
       "engineer: 5 car_A + 6 car_B <= 60\n",
       "\n",
       "dealership: 1.5 car_A + 3 car_B <= 21\n",
       "\n",
       "VARIABLES\n",
       "0 <= car_A Integer\n",
       "0 <= car_B Integer\n",
       ">"
      ]
     },
     "execution_count": 13,
     "metadata": {},
     "output_type": "execute_result"
    },
    {
     "data": {
      "application/javascript": [
       "\n",
       "            setTimeout(function() {\n",
       "                var nbb_cell_id = 13;\n",
       "                var nbb_unformatted_code = \"prob.variables\";\n",
       "                var nbb_formatted_code = \"prob.variables\";\n",
       "                var nbb_cells = Jupyter.notebook.get_cells();\n",
       "                for (var i = 0; i < nbb_cells.length; ++i) {\n",
       "                    if (nbb_cells[i].input_prompt_number == nbb_cell_id) {\n",
       "                        if (nbb_cells[i].get_text() == nbb_unformatted_code) {\n",
       "                             nbb_cells[i].set_text(nbb_formatted_code);\n",
       "                        }\n",
       "                        break;\n",
       "                    }\n",
       "                }\n",
       "            }, 500);\n",
       "            "
      ],
      "text/plain": [
       "<IPython.core.display.Javascript object>"
      ]
     },
     "metadata": {},
     "output_type": "display_data"
    }
   ],
   "source": [
    "prob.variables"
   ]
  }
 ],
 "metadata": {
  "kernelspec": {
   "display_name": "Python 3",
   "language": "python",
   "name": "python3"
  },
  "language_info": {
   "codemirror_mode": {
    "name": "ipython",
    "version": 3
   },
   "file_extension": ".py",
   "mimetype": "text/x-python",
   "name": "python",
   "nbconvert_exporter": "python",
   "pygments_lexer": "ipython3",
   "version": "3.7.7"
  }
 },
 "nbformat": 4,
 "nbformat_minor": 2
}
