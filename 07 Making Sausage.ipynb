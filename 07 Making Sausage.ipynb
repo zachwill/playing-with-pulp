{
 "cells": [
  {
   "cell_type": "markdown",
   "metadata": {},
   "source": [
    "https://github.com/benalexkeen/Introduction-to-linear-programming/"
   ]
  },
  {
   "cell_type": "code",
   "execution_count": 1,
   "metadata": {},
   "outputs": [
    {
     "data": {
      "application/javascript": [
       "\n",
       "            setTimeout(function() {\n",
       "                var nbb_cell_id = 1;\n",
       "                var nbb_unformatted_code = \"%load_ext nb_black\\n\\nfrom pulp import LpProblem, LpStatus, LpVariable, lpSum, value\\nfrom pulp import LpBinary, LpMinimize, LpMaximize\";\n",
       "                var nbb_formatted_code = \"%load_ext nb_black\\n\\nfrom pulp import LpProblem, LpStatus, LpVariable, lpSum, value\\nfrom pulp import LpBinary, LpMinimize, LpMaximize\";\n",
       "                var nbb_cells = Jupyter.notebook.get_cells();\n",
       "                for (var i = 0; i < nbb_cells.length; ++i) {\n",
       "                    if (nbb_cells[i].input_prompt_number == nbb_cell_id) {\n",
       "                        if (nbb_cells[i].get_text() == nbb_unformatted_code) {\n",
       "                             nbb_cells[i].set_text(nbb_formatted_code);\n",
       "                        }\n",
       "                        break;\n",
       "                    }\n",
       "                }\n",
       "            }, 500);\n",
       "            "
      ],
      "text/plain": [
       "<IPython.core.display.Javascript object>"
      ]
     },
     "metadata": {},
     "output_type": "display_data"
    }
   ],
   "source": [
    "%load_ext nb_black\n",
    "\n",
    "from pulp import LpProblem, LpStatus, LpVariable, lpSum, value\n",
    "from pulp import LpBinary, LpMinimize, LpMaximize"
   ]
  },
  {
   "cell_type": "code",
   "execution_count": 2,
   "metadata": {},
   "outputs": [
    {
     "name": "stderr",
     "output_type": "stream",
     "text": [
      "/usr/local/lib/python3.7/site-packages/pulp/pulp.py:1137: UserWarning: Spaces are not permitted in the name. Converted to '_'\n",
      "  warnings.warn(\"Spaces are not permitted in the name. Converted to '_'\")\n"
     ]
    },
    {
     "data": {
      "application/javascript": [
       "\n",
       "            setTimeout(function() {\n",
       "                var nbb_cell_id = 2;\n",
       "                var nbb_unformatted_code = \"prob = LpProblem(\\\"Making Sausage\\\", LpMinimize)\\n\\nsausage_types = [\\\"economy\\\", \\\"premium\\\"]\\n\\ningredients = [\\\"pork\\\", \\\"wheat\\\", \\\"starch\\\"]\";\n",
       "                var nbb_formatted_code = \"prob = LpProblem(\\\"Making Sausage\\\", LpMinimize)\\n\\nsausage_types = [\\\"economy\\\", \\\"premium\\\"]\\n\\ningredients = [\\\"pork\\\", \\\"wheat\\\", \\\"starch\\\"]\";\n",
       "                var nbb_cells = Jupyter.notebook.get_cells();\n",
       "                for (var i = 0; i < nbb_cells.length; ++i) {\n",
       "                    if (nbb_cells[i].input_prompt_number == nbb_cell_id) {\n",
       "                        if (nbb_cells[i].get_text() == nbb_unformatted_code) {\n",
       "                             nbb_cells[i].set_text(nbb_formatted_code);\n",
       "                        }\n",
       "                        break;\n",
       "                    }\n",
       "                }\n",
       "            }, 500);\n",
       "            "
      ],
      "text/plain": [
       "<IPython.core.display.Javascript object>"
      ]
     },
     "metadata": {},
     "output_type": "display_data"
    }
   ],
   "source": [
    "prob = LpProblem(\"Making Sausage\", LpMinimize)\n",
    "\n",
    "sausage_types = [\"economy\", \"premium\"]\n",
    "\n",
    "ingredients = [\"pork\", \"wheat\", \"starch\"]"
   ]
  },
  {
   "cell_type": "code",
   "execution_count": 3,
   "metadata": {},
   "outputs": [
    {
     "data": {
      "application/javascript": [
       "\n",
       "            setTimeout(function() {\n",
       "                var nbb_cell_id = 3;\n",
       "                var nbb_unformatted_code = \"weight = LpVariable.dicts(\\n    \\\"weight kg\\\",\\n    ((sausage, ingredient) for sausage in sausage_types for ingredient in ingredients),\\n    lowBound=0,\\n    cat=\\\"Continuous\\\",\\n)\";\n",
       "                var nbb_formatted_code = \"weight = LpVariable.dicts(\\n    \\\"weight kg\\\",\\n    ((sausage, ingredient) for sausage in sausage_types for ingredient in ingredients),\\n    lowBound=0,\\n    cat=\\\"Continuous\\\",\\n)\";\n",
       "                var nbb_cells = Jupyter.notebook.get_cells();\n",
       "                for (var i = 0; i < nbb_cells.length; ++i) {\n",
       "                    if (nbb_cells[i].input_prompt_number == nbb_cell_id) {\n",
       "                        if (nbb_cells[i].get_text() == nbb_unformatted_code) {\n",
       "                             nbb_cells[i].set_text(nbb_formatted_code);\n",
       "                        }\n",
       "                        break;\n",
       "                    }\n",
       "                }\n",
       "            }, 500);\n",
       "            "
      ],
      "text/plain": [
       "<IPython.core.display.Javascript object>"
      ]
     },
     "metadata": {},
     "output_type": "display_data"
    }
   ],
   "source": [
    "weight = LpVariable.dicts(\n",
    "    \"weight kg\",\n",
    "    ((sausage, ingredient) for sausage in sausage_types for ingredient in ingredients),\n",
    "    lowBound=0,\n",
    "    cat=\"Continuous\",\n",
    ")"
   ]
  },
  {
   "cell_type": "code",
   "execution_count": 4,
   "metadata": {},
   "outputs": [
    {
     "data": {
      "application/javascript": [
       "\n",
       "            setTimeout(function() {\n",
       "                var nbb_cell_id = 4;\n",
       "                var nbb_unformatted_code = \"# Objective Function\\nprob += lpSum(\\n    [\\n        4.32 * weight[(sausage, \\\"pork\\\")]\\n        + 2.46 * weight[(sausage, \\\"wheat\\\")]\\n        + 1.86 * weight[(sausage, \\\"starch\\\")]\\n        for sausage in sausage_types\\n    ]\\n)\";\n",
       "                var nbb_formatted_code = \"# Objective Function\\nprob += lpSum(\\n    [\\n        4.32 * weight[(sausage, \\\"pork\\\")]\\n        + 2.46 * weight[(sausage, \\\"wheat\\\")]\\n        + 1.86 * weight[(sausage, \\\"starch\\\")]\\n        for sausage in sausage_types\\n    ]\\n)\";\n",
       "                var nbb_cells = Jupyter.notebook.get_cells();\n",
       "                for (var i = 0; i < nbb_cells.length; ++i) {\n",
       "                    if (nbb_cells[i].input_prompt_number == nbb_cell_id) {\n",
       "                        if (nbb_cells[i].get_text() == nbb_unformatted_code) {\n",
       "                             nbb_cells[i].set_text(nbb_formatted_code);\n",
       "                        }\n",
       "                        break;\n",
       "                    }\n",
       "                }\n",
       "            }, 500);\n",
       "            "
      ],
      "text/plain": [
       "<IPython.core.display.Javascript object>"
      ]
     },
     "metadata": {},
     "output_type": "display_data"
    }
   ],
   "source": [
    "# Objective Function\n",
    "prob += lpSum(\n",
    "    [\n",
    "        4.32 * weight[(sausage, \"pork\")]\n",
    "        + 2.46 * weight[(sausage, \"wheat\")]\n",
    "        + 1.86 * weight[(sausage, \"starch\")]\n",
    "        for sausage in sausage_types\n",
    "    ]\n",
    ")"
   ]
  },
  {
   "cell_type": "code",
   "execution_count": 5,
   "metadata": {},
   "outputs": [
    {
     "data": {
      "application/javascript": [
       "\n",
       "            setTimeout(function() {\n",
       "                var nbb_cell_id = 5;\n",
       "                var nbb_unformatted_code = \"# Constraints\\n# 350 economy and 500 premium sausages at 0.05 kg\\nprob += lpSum([weight[\\\"economy\\\", i] for i in ingredients]) == 350 * 0.05\\nprob += lpSum([weight[\\\"premium\\\", i] for i in ingredients]) == 500 * 0.05\\n\\n# Economy has >= 40% pork, premium >= 60% pork\\nprob += weight[\\\"economy\\\", \\\"pork\\\"] >= (\\n    0.4 * lpSum([weight[\\\"economy\\\", i] for i in ingredients])\\n)\\n\\nprob += weight[\\\"premium\\\", \\\"pork\\\"] >= (\\n    0.6 * lpSum([weight[\\\"premium\\\", i] for i in ingredients])\\n)\\n\\n# Sausages must be <= 25% starch\\nprob += weight[\\\"economy\\\", \\\"starch\\\"] <= (\\n    0.25 * lpSum([weight[\\\"economy\\\", i] for i in ingredients])\\n)\\n\\nprob += weight[\\\"premium\\\", \\\"starch\\\"] <= (\\n    0.25 * lpSum([weight[\\\"premium\\\", i] for i in ingredients])\\n)\\n\\n# We have at most 30 kg of pork, 20 kg of wheat and 17 kg of starch available\\nprob += lpSum([weight[s, \\\"pork\\\"] for s in sausage_types]) <= 30\\nprob += lpSum([weight[s, \\\"wheat\\\"] for s in sausage_types]) <= 20\\nprob += lpSum([weight[s, \\\"starch\\\"] for s in sausage_types]) <= 17\\n\\n# We have at least 23 kg of pork to use up\\nprob += lpSum([weight[s, \\\"pork\\\"] for s in sausage_types]) >= 23\";\n",
       "                var nbb_formatted_code = \"# Constraints\\n# 350 economy and 500 premium sausages at 0.05 kg\\nprob += lpSum([weight[\\\"economy\\\", i] for i in ingredients]) == 350 * 0.05\\nprob += lpSum([weight[\\\"premium\\\", i] for i in ingredients]) == 500 * 0.05\\n\\n# Economy has >= 40% pork, premium >= 60% pork\\nprob += weight[\\\"economy\\\", \\\"pork\\\"] >= (\\n    0.4 * lpSum([weight[\\\"economy\\\", i] for i in ingredients])\\n)\\n\\nprob += weight[\\\"premium\\\", \\\"pork\\\"] >= (\\n    0.6 * lpSum([weight[\\\"premium\\\", i] for i in ingredients])\\n)\\n\\n# Sausages must be <= 25% starch\\nprob += weight[\\\"economy\\\", \\\"starch\\\"] <= (\\n    0.25 * lpSum([weight[\\\"economy\\\", i] for i in ingredients])\\n)\\n\\nprob += weight[\\\"premium\\\", \\\"starch\\\"] <= (\\n    0.25 * lpSum([weight[\\\"premium\\\", i] for i in ingredients])\\n)\\n\\n# We have at most 30 kg of pork, 20 kg of wheat and 17 kg of starch available\\nprob += lpSum([weight[s, \\\"pork\\\"] for s in sausage_types]) <= 30\\nprob += lpSum([weight[s, \\\"wheat\\\"] for s in sausage_types]) <= 20\\nprob += lpSum([weight[s, \\\"starch\\\"] for s in sausage_types]) <= 17\\n\\n# We have at least 23 kg of pork to use up\\nprob += lpSum([weight[s, \\\"pork\\\"] for s in sausage_types]) >= 23\";\n",
       "                var nbb_cells = Jupyter.notebook.get_cells();\n",
       "                for (var i = 0; i < nbb_cells.length; ++i) {\n",
       "                    if (nbb_cells[i].input_prompt_number == nbb_cell_id) {\n",
       "                        if (nbb_cells[i].get_text() == nbb_unformatted_code) {\n",
       "                             nbb_cells[i].set_text(nbb_formatted_code);\n",
       "                        }\n",
       "                        break;\n",
       "                    }\n",
       "                }\n",
       "            }, 500);\n",
       "            "
      ],
      "text/plain": [
       "<IPython.core.display.Javascript object>"
      ]
     },
     "metadata": {},
     "output_type": "display_data"
    }
   ],
   "source": [
    "# Constraints\n",
    "\n",
    "# 350 economy and 500 premium sausages at 0.05 kg\n",
    "prob += lpSum([weight[\"economy\", i] for i in ingredients]) == 350 * 0.05\n",
    "prob += lpSum([weight[\"premium\", i] for i in ingredients]) == 500 * 0.05\n",
    "\n",
    "# Economy has >= 40% pork, premium >= 60% pork\n",
    "prob += weight[\"economy\", \"pork\"] >= (\n",
    "    0.4 * lpSum([weight[\"economy\", i] for i in ingredients])\n",
    ")\n",
    "\n",
    "prob += weight[\"premium\", \"pork\"] >= (\n",
    "    0.6 * lpSum([weight[\"premium\", i] for i in ingredients])\n",
    ")\n",
    "\n",
    "# Sausages must be <= 25% starch\n",
    "prob += weight[\"economy\", \"starch\"] <= (\n",
    "    0.25 * lpSum([weight[\"economy\", i] for i in ingredients])\n",
    ")\n",
    "\n",
    "prob += weight[\"premium\", \"starch\"] <= (\n",
    "    0.25 * lpSum([weight[\"premium\", i] for i in ingredients])\n",
    ")\n",
    "\n",
    "# We have at most 30 kg of pork, 20 kg of wheat and 17 kg of starch available\n",
    "prob += lpSum([weight[s, \"pork\"] for s in sausage_types]) <= 30\n",
    "prob += lpSum([weight[s, \"wheat\"] for s in sausage_types]) <= 20\n",
    "prob += lpSum([weight[s, \"starch\"] for s in sausage_types]) <= 17\n",
    "\n",
    "# We have at least 23 kg of pork to use up\n",
    "prob += lpSum([weight[s, \"pork\"] for s in sausage_types]) >= 23"
   ]
  },
  {
   "cell_type": "code",
   "execution_count": 6,
   "metadata": {},
   "outputs": [
    {
     "data": {
      "text/plain": [
       "'Optimal'"
      ]
     },
     "execution_count": 6,
     "metadata": {},
     "output_type": "execute_result"
    },
    {
     "data": {
      "application/javascript": [
       "\n",
       "            setTimeout(function() {\n",
       "                var nbb_cell_id = 6;\n",
       "                var nbb_unformatted_code = \"prob.solve()\\n\\nLpStatus[prob.status]\";\n",
       "                var nbb_formatted_code = \"prob.solve()\\n\\nLpStatus[prob.status]\";\n",
       "                var nbb_cells = Jupyter.notebook.get_cells();\n",
       "                for (var i = 0; i < nbb_cells.length; ++i) {\n",
       "                    if (nbb_cells[i].input_prompt_number == nbb_cell_id) {\n",
       "                        if (nbb_cells[i].get_text() == nbb_unformatted_code) {\n",
       "                             nbb_cells[i].set_text(nbb_formatted_code);\n",
       "                        }\n",
       "                        break;\n",
       "                    }\n",
       "                }\n",
       "            }, 500);\n",
       "            "
      ],
      "text/plain": [
       "<IPython.core.display.Javascript object>"
      ]
     },
     "metadata": {},
     "output_type": "display_data"
    }
   ],
   "source": [
    "prob.solve()\n",
    "\n",
    "LpStatus[prob.status]"
   ]
  },
  {
   "cell_type": "code",
   "execution_count": 21,
   "metadata": {},
   "outputs": [
    {
     "data": {
      "text/plain": [
       "7.0"
      ]
     },
     "execution_count": 21,
     "metadata": {},
     "output_type": "execute_result"
    },
    {
     "data": {
      "application/javascript": [
       "\n",
       "            setTimeout(function() {\n",
       "                var nbb_cell_id = 21;\n",
       "                var nbb_unformatted_code = \"weight[(\\\"economy\\\", \\\"pork\\\")].varValue\";\n",
       "                var nbb_formatted_code = \"weight[(\\\"economy\\\", \\\"pork\\\")].varValue\";\n",
       "                var nbb_cells = Jupyter.notebook.get_cells();\n",
       "                for (var i = 0; i < nbb_cells.length; ++i) {\n",
       "                    if (nbb_cells[i].input_prompt_number == nbb_cell_id) {\n",
       "                        if (nbb_cells[i].get_text() == nbb_unformatted_code) {\n",
       "                             nbb_cells[i].set_text(nbb_formatted_code);\n",
       "                        }\n",
       "                        break;\n",
       "                    }\n",
       "                }\n",
       "            }, 500);\n",
       "            "
      ],
      "text/plain": [
       "<IPython.core.display.Javascript object>"
      ]
     },
     "metadata": {},
     "output_type": "display_data"
    }
   ],
   "source": [
    "weight[(\"economy\", \"pork\")].varValue"
   ]
  },
  {
   "cell_type": "code",
   "execution_count": 32,
   "metadata": {},
   "outputs": [
    {
     "name": "stdout",
     "output_type": "stream",
     "text": [
      "\n",
      "Economy\n",
      "-------\n",
      "    Pork:    7.00 kg\n",
      "    Starch:  4.38 kg\n",
      "    Wheat:   6.12 kg\n",
      "    \n",
      "Premimum\n",
      "--------\n",
      "    Pork:   16.00 kg\n",
      "    Starch:  6.25 kg\n",
      "    Wheat:   2.75 kg\n",
      "    \n",
      "\n",
      "Objective\n",
      "=========\n",
      "140.96\n",
      "\n"
     ]
    },
    {
     "data": {
      "application/javascript": [
       "\n",
       "            setTimeout(function() {\n",
       "                var nbb_cell_id = 32;\n",
       "                var nbb_unformatted_code = \"print(\\n    f\\\"\\\"\\\"\\nEconomy\\n-------\\n    Pork:   {weight[(\\\"economy\\\", \\\"pork\\\")].varValue:>5.2f} kg\\n    Starch: {weight[(\\\"economy\\\", \\\"starch\\\")].varValue:>5.2f} kg\\n    Wheat:  {weight[(\\\"economy\\\", \\\"wheat\\\")].varValue:>5.2f} kg\\n    \\nPremimum\\n--------\\n    Pork:   {weight[(\\\"premium\\\", \\\"pork\\\")].varValue:>5.2f} kg\\n    Starch: {weight[(\\\"premium\\\", \\\"starch\\\")].varValue:>5.2f} kg\\n    Wheat:  {weight[(\\\"premium\\\", \\\"wheat\\\")].varValue:>5.2f} kg\\n    \\n\\nObjective\\n=========\\n{value(prob.objective):>4.2f}\\n\\\"\\\"\\\"\\n)\";\n",
       "                var nbb_formatted_code = \"print(\\n    f\\\"\\\"\\\"\\nEconomy\\n-------\\n    Pork:   {weight[(\\\"economy\\\", \\\"pork\\\")].varValue:>5.2f} kg\\n    Starch: {weight[(\\\"economy\\\", \\\"starch\\\")].varValue:>5.2f} kg\\n    Wheat:  {weight[(\\\"economy\\\", \\\"wheat\\\")].varValue:>5.2f} kg\\n    \\nPremimum\\n--------\\n    Pork:   {weight[(\\\"premium\\\", \\\"pork\\\")].varValue:>5.2f} kg\\n    Starch: {weight[(\\\"premium\\\", \\\"starch\\\")].varValue:>5.2f} kg\\n    Wheat:  {weight[(\\\"premium\\\", \\\"wheat\\\")].varValue:>5.2f} kg\\n    \\n\\nObjective\\n=========\\n{value(prob.objective):>4.2f}\\n\\\"\\\"\\\"\\n)\";\n",
       "                var nbb_cells = Jupyter.notebook.get_cells();\n",
       "                for (var i = 0; i < nbb_cells.length; ++i) {\n",
       "                    if (nbb_cells[i].input_prompt_number == nbb_cell_id) {\n",
       "                        if (nbb_cells[i].get_text() == nbb_unformatted_code) {\n",
       "                             nbb_cells[i].set_text(nbb_formatted_code);\n",
       "                        }\n",
       "                        break;\n",
       "                    }\n",
       "                }\n",
       "            }, 500);\n",
       "            "
      ],
      "text/plain": [
       "<IPython.core.display.Javascript object>"
      ]
     },
     "metadata": {},
     "output_type": "display_data"
    }
   ],
   "source": [
    "print(\n",
    "    f\"\"\"\n",
    "Economy\n",
    "-------\n",
    "    Pork:   {weight[(\"economy\", \"pork\")].varValue:>5.2f} kg\n",
    "    Starch: {weight[(\"economy\", \"starch\")].varValue:>5.2f} kg\n",
    "    Wheat:  {weight[(\"economy\", \"wheat\")].varValue:>5.2f} kg\n",
    "    \n",
    "Premimum\n",
    "--------\n",
    "    Pork:   {weight[(\"premium\", \"pork\")].varValue:>5.2f} kg\n",
    "    Starch: {weight[(\"premium\", \"starch\")].varValue:>5.2f} kg\n",
    "    Wheat:  {weight[(\"premium\", \"wheat\")].varValue:>5.2f} kg\n",
    "    \n",
    "\n",
    "Objective\n",
    "=========\n",
    "{value(prob.objective):>4.2f}\n",
    "\"\"\"\n",
    ")"
   ]
  },
  {
   "cell_type": "code",
   "execution_count": 8,
   "metadata": {},
   "outputs": [
    {
     "data": {
      "text/plain": [
       "<bound method LpProblem.variables of Making_Sausage:\n",
       "MINIMIZE\n",
       "4.32*weight_kg_('economy',_'pork') + 1.86*weight_kg_('economy',_'starch') + 2.46*weight_kg_('economy',_'wheat') + 4.32*weight_kg_('premium',_'pork') + 1.86*weight_kg_('premium',_'starch') + 2.46*weight_kg_('premium',_'wheat') + 0.0\n",
       "SUBJECT TO\n",
       "_C1: weight_kg_('economy',_'pork') + weight_kg_('economy',_'starch')\n",
       " + weight_kg_('economy',_'wheat') = 17.5\n",
       "\n",
       "_C2: weight_kg_('premium',_'pork') + weight_kg_('premium',_'starch')\n",
       " + weight_kg_('premium',_'wheat') = 25\n",
       "\n",
       "_C3: 0.6 weight_kg_('economy',_'pork') - 0.4 weight_kg_('economy',_'starch')\n",
       " - 0.4 weight_kg_('economy',_'wheat') >= 0\n",
       "\n",
       "_C4: 0.4 weight_kg_('premium',_'pork') - 0.6 weight_kg_('premium',_'starch')\n",
       " - 0.6 weight_kg_('premium',_'wheat') >= 0\n",
       "\n",
       "_C5: - 0.25 weight_kg_('economy',_'pork')\n",
       " + 0.75 weight_kg_('economy',_'starch') - 0.25 weight_kg_('economy',_'wheat')\n",
       " <= 0\n",
       "\n",
       "_C6: - 0.25 weight_kg_('premium',_'pork')\n",
       " + 0.75 weight_kg_('premium',_'starch') - 0.25 weight_kg_('premium',_'wheat')\n",
       " <= 0\n",
       "\n",
       "_C7: weight_kg_('economy',_'pork') + weight_kg_('premium',_'pork') <= 30\n",
       "\n",
       "_C8: weight_kg_('economy',_'wheat') + weight_kg_('premium',_'wheat') <= 20\n",
       "\n",
       "_C9: weight_kg_('economy',_'starch') + weight_kg_('premium',_'starch') <= 17\n",
       "\n",
       "_C10: weight_kg_('economy',_'pork') + weight_kg_('premium',_'pork') >= 23\n",
       "\n",
       "VARIABLES\n",
       "weight_kg_('economy',_'pork') Continuous\n",
       "weight_kg_('economy',_'starch') Continuous\n",
       "weight_kg_('economy',_'wheat') Continuous\n",
       "weight_kg_('premium',_'pork') Continuous\n",
       "weight_kg_('premium',_'starch') Continuous\n",
       "weight_kg_('premium',_'wheat') Continuous\n",
       ">"
      ]
     },
     "execution_count": 8,
     "metadata": {},
     "output_type": "execute_result"
    },
    {
     "data": {
      "application/javascript": [
       "\n",
       "            setTimeout(function() {\n",
       "                var nbb_cell_id = 8;\n",
       "                var nbb_unformatted_code = \"prob.variables\";\n",
       "                var nbb_formatted_code = \"prob.variables\";\n",
       "                var nbb_cells = Jupyter.notebook.get_cells();\n",
       "                for (var i = 0; i < nbb_cells.length; ++i) {\n",
       "                    if (nbb_cells[i].input_prompt_number == nbb_cell_id) {\n",
       "                        if (nbb_cells[i].get_text() == nbb_unformatted_code) {\n",
       "                             nbb_cells[i].set_text(nbb_formatted_code);\n",
       "                        }\n",
       "                        break;\n",
       "                    }\n",
       "                }\n",
       "            }, 500);\n",
       "            "
      ],
      "text/plain": [
       "<IPython.core.display.Javascript object>"
      ]
     },
     "metadata": {},
     "output_type": "display_data"
    }
   ],
   "source": [
    "prob.variables"
   ]
  }
 ],
 "metadata": {
  "kernelspec": {
   "display_name": "Python 3",
   "language": "python",
   "name": "python3"
  },
  "language_info": {
   "codemirror_mode": {
    "name": "ipython",
    "version": 3
   },
   "file_extension": ".py",
   "mimetype": "text/x-python",
   "name": "python",
   "nbconvert_exporter": "python",
   "pygments_lexer": "ipython3",
   "version": "3.7.7"
  }
 },
 "nbformat": 4,
 "nbformat_minor": 2
}
