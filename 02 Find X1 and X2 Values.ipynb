{
 "cells": [
  {
   "cell_type": "code",
   "execution_count": 4,
   "metadata": {},
   "outputs": [],
   "source": [
    "from pulp import LpProblem, LpVariable, lpSum, LpMaximize, value"
   ]
  },
  {
   "cell_type": "code",
   "execution_count": 7,
   "metadata": {},
   "outputs": [
    {
     "name": "stdout",
     "output_type": "stream",
     "text": [
      "Optimal total cost is: 350.0\n",
      "x1: 50.0\n",
      "x2: 50.0\n"
     ]
    }
   ],
   "source": [
    "prob = LpProblem(\"Dedication Model\", LpMaximize)\n",
    "\n",
    "x1 = LpVariable(\"x1\", 0, None)\n",
    "x2 = LpVariable(\"x2\", 0, None)\n",
    "\n",
    "prob += 4 * x1 + 3 * x2\n",
    "prob += x1 + x2 <= 100\n",
    "prob += 2 * x1 + x2 <= 150\n",
    "prob += 3 * x1 + 4 * x2 <= 360\n",
    "\n",
    "prob.solve()\n",
    "\n",
    "print(f\"Optimal total cost is: {value(prob.objective)}\")\n",
    "print(f\"x1: {x1.varValue}\")\n",
    "print(f\"x2: {x2.varValue}\")"
   ]
  }
 ],
 "metadata": {
  "kernelspec": {
   "display_name": "Python 3",
   "language": "python",
   "name": "python3"
  },
  "language_info": {
   "codemirror_mode": {
    "name": "ipython",
    "version": 3
   },
   "file_extension": ".py",
   "mimetype": "text/x-python",
   "name": "python",
   "nbconvert_exporter": "python",
   "pygments_lexer": "ipython3",
   "version": "3.7.7"
  }
 },
 "nbformat": 4,
 "nbformat_minor": 2
}
