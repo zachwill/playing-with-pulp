{
 "cells": [
  {
   "cell_type": "markdown",
   "metadata": {},
   "source": [
    "https://stackoverflow.com/questions/45801494/converting-excel-solver-solution-to-python-pulp"
   ]
  },
  {
   "cell_type": "code",
   "execution_count": 1,
   "metadata": {},
   "outputs": [
    {
     "data": {
      "application/javascript": [
       "\n",
       "            setTimeout(function() {\n",
       "                var nbb_cell_id = 1;\n",
       "                var nbb_unformatted_code = \"%load_ext nb_black\\n\\nimport pandas as pd\\n\\nfrom pulp import LpProblem, LpStatus, LpVariable, LpAffineExpression\\nfrom pulp import LpBinary, LpMinimize, LpMaximize, lpSum, value\";\n",
       "                var nbb_formatted_code = \"%load_ext nb_black\\n\\nimport pandas as pd\\n\\nfrom pulp import LpProblem, LpStatus, LpVariable, LpAffineExpression\\nfrom pulp import LpBinary, LpMinimize, LpMaximize, lpSum, value\";\n",
       "                var nbb_cells = Jupyter.notebook.get_cells();\n",
       "                for (var i = 0; i < nbb_cells.length; ++i) {\n",
       "                    if (nbb_cells[i].input_prompt_number == nbb_cell_id) {\n",
       "                        if (nbb_cells[i].get_text() == nbb_unformatted_code) {\n",
       "                             nbb_cells[i].set_text(nbb_formatted_code);\n",
       "                        }\n",
       "                        break;\n",
       "                    }\n",
       "                }\n",
       "            }, 500);\n",
       "            "
      ],
      "text/plain": [
       "<IPython.core.display.Javascript object>"
      ]
     },
     "metadata": {},
     "output_type": "display_data"
    }
   ],
   "source": [
    "%load_ext nb_black\n",
    "\n",
    "import pandas as pd\n",
    "\n",
    "from pulp import LpProblem, LpStatus, LpVariable, LpAffineExpression\n",
    "from pulp import LpBinary, LpMinimize, LpMaximize, lpSum, value"
   ]
  },
  {
   "cell_type": "code",
   "execution_count": 2,
   "metadata": {},
   "outputs": [
    {
     "data": {
      "text/html": [
       "<div>\n",
       "<style scoped>\n",
       "    .dataframe tbody tr th:only-of-type {\n",
       "        vertical-align: middle;\n",
       "    }\n",
       "\n",
       "    .dataframe tbody tr th {\n",
       "        vertical-align: top;\n",
       "    }\n",
       "\n",
       "    .dataframe thead th {\n",
       "        text-align: right;\n",
       "    }\n",
       "</style>\n",
       "<table border=\"1\" class=\"dataframe\">\n",
       "  <thead>\n",
       "    <tr style=\"text-align: right;\">\n",
       "      <th></th>\n",
       "      <th>Dept</th>\n",
       "      <th>Target</th>\n",
       "      <th>Hours/Day</th>\n",
       "      <th>Production</th>\n",
       "    </tr>\n",
       "  </thead>\n",
       "  <tbody>\n",
       "    <tr>\n",
       "      <th>0</th>\n",
       "      <td>Receiving</td>\n",
       "      <td>61</td>\n",
       "      <td>7.75</td>\n",
       "      <td>11346</td>\n",
       "    </tr>\n",
       "    <tr>\n",
       "      <th>1</th>\n",
       "      <td>Picking</td>\n",
       "      <td>94</td>\n",
       "      <td>7.75</td>\n",
       "      <td>13011</td>\n",
       "    </tr>\n",
       "    <tr>\n",
       "      <th>2</th>\n",
       "      <td>PPicking</td>\n",
       "      <td>32</td>\n",
       "      <td>7.75</td>\n",
       "      <td>2715</td>\n",
       "    </tr>\n",
       "    <tr>\n",
       "      <th>3</th>\n",
       "      <td>QC</td>\n",
       "      <td>63</td>\n",
       "      <td>7.75</td>\n",
       "      <td>13682</td>\n",
       "    </tr>\n",
       "    <tr>\n",
       "      <th>4</th>\n",
       "      <td>Packing</td>\n",
       "      <td>116</td>\n",
       "      <td>7.75</td>\n",
       "      <td>14194</td>\n",
       "    </tr>\n",
       "  </tbody>\n",
       "</table>\n",
       "</div>"
      ],
      "text/plain": [
       "        Dept  Target  Hours/Day  Production\n",
       "0  Receiving      61       7.75       11346\n",
       "1    Picking      94       7.75       13011\n",
       "2   PPicking      32       7.75        2715\n",
       "3         QC      63       7.75       13682\n",
       "4    Packing     116       7.75       14194"
      ]
     },
     "execution_count": 2,
     "metadata": {},
     "output_type": "execute_result"
    },
    {
     "data": {
      "application/javascript": [
       "\n",
       "            setTimeout(function() {\n",
       "                var nbb_cell_id = 2;\n",
       "                var nbb_unformatted_code = \"df = pd.DataFrame(\\n    [\\n        [\\\"Receiving\\\", 61, 7.75, 11_346],\\n        [\\\"Picking\\\", 94, 7.75, 13_011],\\n        [\\\"PPicking\\\", 32, 7.75, 2_715],\\n        [\\\"QC\\\", 63, 7.75, 13_682],\\n        [\\\"Packing\\\", 116, 7.75, 14_194],\\n    ],\\n    columns=[\\\"Dept\\\", \\\"Target\\\", \\\"Hours/Day\\\", \\\"Production\\\"],\\n)\\n\\ndf.head()\";\n",
       "                var nbb_formatted_code = \"df = pd.DataFrame(\\n    [\\n        [\\\"Receiving\\\", 61, 7.75, 11_346],\\n        [\\\"Picking\\\", 94, 7.75, 13_011],\\n        [\\\"PPicking\\\", 32, 7.75, 2_715],\\n        [\\\"QC\\\", 63, 7.75, 13_682],\\n        [\\\"Packing\\\", 116, 7.75, 14_194],\\n    ],\\n    columns=[\\\"Dept\\\", \\\"Target\\\", \\\"Hours/Day\\\", \\\"Production\\\"],\\n)\\n\\ndf.head()\";\n",
       "                var nbb_cells = Jupyter.notebook.get_cells();\n",
       "                for (var i = 0; i < nbb_cells.length; ++i) {\n",
       "                    if (nbb_cells[i].input_prompt_number == nbb_cell_id) {\n",
       "                        if (nbb_cells[i].get_text() == nbb_unformatted_code) {\n",
       "                             nbb_cells[i].set_text(nbb_formatted_code);\n",
       "                        }\n",
       "                        break;\n",
       "                    }\n",
       "                }\n",
       "            }, 500);\n",
       "            "
      ],
      "text/plain": [
       "<IPython.core.display.Javascript object>"
      ]
     },
     "metadata": {},
     "output_type": "display_data"
    }
   ],
   "source": [
    "df = pd.DataFrame(\n",
    "    [\n",
    "        [\"Receiving\", 61, 7.75, 11_346],\n",
    "        [\"Picking\", 94, 7.75, 13_011],\n",
    "        [\"PPicking\", 32, 7.75, 2_715],\n",
    "        [\"QC\", 63, 7.75, 13_682],\n",
    "        [\"Packing\", 116, 7.75, 14_194],\n",
    "    ],\n",
    "    columns=[\"Dept\", \"Target\", \"Hours/Day\", \"Production\"],\n",
    ")\n",
    "\n",
    "df.head()"
   ]
  },
  {
   "cell_type": "code",
   "execution_count": 3,
   "metadata": {},
   "outputs": [
    {
     "name": "stderr",
     "output_type": "stream",
     "text": [
      "/usr/local/lib/python3.7/site-packages/pulp/pulp.py:1137: UserWarning: Spaces are not permitted in the name. Converted to '_'\n",
      "  warnings.warn(\"Spaces are not permitted in the name. Converted to '_'\")\n"
     ]
    },
    {
     "data": {
      "application/javascript": [
       "\n",
       "            setTimeout(function() {\n",
       "                var nbb_cell_id = 3;\n",
       "                var nbb_unformatted_code = \"HOUR_COUNT = LpVariable.dicts(\\\"HOUR_COUNT\\\", df.index, lowBound=0, cat=\\\"Continuous\\\")\\nOVERTIME = LpVariable.dicts(\\\"OVERTIME\\\", df.index, lowBound=0, cat=\\\"Continuous\\\")\\n\\nmodel = LpProblem(\\\"OT Reduction\\\", LpMinimize)\";\n",
       "                var nbb_formatted_code = \"HOUR_COUNT = LpVariable.dicts(\\\"HOUR_COUNT\\\", df.index, lowBound=0, cat=\\\"Continuous\\\")\\nOVERTIME = LpVariable.dicts(\\\"OVERTIME\\\", df.index, lowBound=0, cat=\\\"Continuous\\\")\\n\\nmodel = LpProblem(\\\"OT Reduction\\\", LpMinimize)\";\n",
       "                var nbb_cells = Jupyter.notebook.get_cells();\n",
       "                for (var i = 0; i < nbb_cells.length; ++i) {\n",
       "                    if (nbb_cells[i].input_prompt_number == nbb_cell_id) {\n",
       "                        if (nbb_cells[i].get_text() == nbb_unformatted_code) {\n",
       "                             nbb_cells[i].set_text(nbb_formatted_code);\n",
       "                        }\n",
       "                        break;\n",
       "                    }\n",
       "                }\n",
       "            }, 500);\n",
       "            "
      ],
      "text/plain": [
       "<IPython.core.display.Javascript object>"
      ]
     },
     "metadata": {},
     "output_type": "display_data"
    }
   ],
   "source": [
    "HOUR_COUNT = LpVariable.dicts(\"HOUR_COUNT\", df.index, lowBound=0, cat=\"Continuous\")\n",
    "OVERTIME = LpVariable.dicts(\"OVERTIME\", df.index, lowBound=0, cat=\"Continuous\")\n",
    "\n",
    "model = LpProblem(\"OT Reduction\", LpMinimize)"
   ]
  },
  {
   "cell_type": "code",
   "execution_count": 4,
   "metadata": {},
   "outputs": [
    {
     "data": {
      "application/javascript": [
       "\n",
       "            setTimeout(function() {\n",
       "                var nbb_cell_id = 4;\n",
       "                var nbb_unformatted_code = \"# Objective function\\nmodel += lpSum([OVERTIME[idx] for idx in df.index])\\n\\n# Lower and Upper bounds:\\nfor index, row in df.iterrows():\\n    model += (\\n        row.Target * row[\\\"Hours/Day\\\"] * HOUR_COUNT[index] + row.Target * OVERTIME[index] >= row.Production\\n    )\\n\\n# Total HOUR_COUNT should be less than or equal to 92\\nmodel += lpSum([HOUR_COUNT[idx] for idx in df.index]) <= 92\";\n",
       "                var nbb_formatted_code = \"# Objective function\\nmodel += lpSum([OVERTIME[idx] for idx in df.index])\\n\\n# Lower and Upper bounds:\\nfor index, row in df.iterrows():\\n    model += (\\n        row.Target * row[\\\"Hours/Day\\\"] * HOUR_COUNT[index] + row.Target * OVERTIME[index]\\n        >= row.Production\\n    )\\n\\n# Total HOUR_COUNT should be less than or equal to 92\\nmodel += lpSum([HOUR_COUNT[idx] for idx in df.index]) <= 92\";\n",
       "                var nbb_cells = Jupyter.notebook.get_cells();\n",
       "                for (var i = 0; i < nbb_cells.length; ++i) {\n",
       "                    if (nbb_cells[i].input_prompt_number == nbb_cell_id) {\n",
       "                        if (nbb_cells[i].get_text() == nbb_unformatted_code) {\n",
       "                             nbb_cells[i].set_text(nbb_formatted_code);\n",
       "                        }\n",
       "                        break;\n",
       "                    }\n",
       "                }\n",
       "            }, 500);\n",
       "            "
      ],
      "text/plain": [
       "<IPython.core.display.Javascript object>"
      ]
     },
     "metadata": {},
     "output_type": "display_data"
    }
   ],
   "source": [
    "# Objective function\n",
    "model += lpSum([OVERTIME[idx] for idx in df.index])\n",
    "\n",
    "# Lower and Upper bounds:\n",
    "for index, row in df.iterrows():\n",
    "    model += (\n",
    "        row.Target * row[\"Hours/Day\"] * HOUR_COUNT[index] + row.Target * OVERTIME[index]\n",
    "        >= row.Production\n",
    "    )\n",
    "\n",
    "# Total HOUR_COUNT should be less than or equal to 92\n",
    "model += lpSum([HOUR_COUNT[idx] for idx in df.index]) <= 92"
   ]
  },
  {
   "cell_type": "code",
   "execution_count": 5,
   "metadata": {},
   "outputs": [
    {
     "data": {
      "text/plain": [
       "'Optimal'"
      ]
     },
     "execution_count": 5,
     "metadata": {},
     "output_type": "execute_result"
    },
    {
     "data": {
      "application/javascript": [
       "\n",
       "            setTimeout(function() {\n",
       "                var nbb_cell_id = 5;\n",
       "                var nbb_unformatted_code = \"# Solve model\\nmodel.solve()\\n\\nLpStatus[model.status]\";\n",
       "                var nbb_formatted_code = \"# Solve model\\nmodel.solve()\\n\\nLpStatus[model.status]\";\n",
       "                var nbb_cells = Jupyter.notebook.get_cells();\n",
       "                for (var i = 0; i < nbb_cells.length; ++i) {\n",
       "                    if (nbb_cells[i].input_prompt_number == nbb_cell_id) {\n",
       "                        if (nbb_cells[i].get_text() == nbb_unformatted_code) {\n",
       "                             nbb_cells[i].set_text(nbb_formatted_code);\n",
       "                        }\n",
       "                        break;\n",
       "                    }\n",
       "                }\n",
       "            }, 500);\n",
       "            "
      ],
      "text/plain": [
       "<IPython.core.display.Javascript object>"
      ]
     },
     "metadata": {},
     "output_type": "display_data"
    }
   ],
   "source": [
    "# Solve model\n",
    "model.solve()\n",
    "\n",
    "LpStatus[model.status]"
   ]
  },
  {
   "cell_type": "code",
   "execution_count": 6,
   "metadata": {},
   "outputs": [
    {
     "data": {
      "text/html": [
       "<div>\n",
       "<style scoped>\n",
       "    .dataframe tbody tr th:only-of-type {\n",
       "        vertical-align: middle;\n",
       "    }\n",
       "\n",
       "    .dataframe tbody tr th {\n",
       "        vertical-align: top;\n",
       "    }\n",
       "\n",
       "    .dataframe thead th {\n",
       "        text-align: right;\n",
       "    }\n",
       "</style>\n",
       "<table border=\"1\" class=\"dataframe\">\n",
       "  <thead>\n",
       "    <tr style=\"text-align: right;\">\n",
       "      <th></th>\n",
       "      <th>Dept</th>\n",
       "      <th>HC</th>\n",
       "      <th>OT</th>\n",
       "    </tr>\n",
       "  </thead>\n",
       "  <tbody>\n",
       "    <tr>\n",
       "      <th>0</th>\n",
       "      <td>Receiving</td>\n",
       "      <td>24.00</td>\n",
       "      <td>0.0</td>\n",
       "    </tr>\n",
       "    <tr>\n",
       "      <th>1</th>\n",
       "      <td>Picking</td>\n",
       "      <td>13.24</td>\n",
       "      <td>35.8</td>\n",
       "    </tr>\n",
       "    <tr>\n",
       "      <th>2</th>\n",
       "      <td>PPicking</td>\n",
       "      <td>10.95</td>\n",
       "      <td>0.0</td>\n",
       "    </tr>\n",
       "    <tr>\n",
       "      <th>3</th>\n",
       "      <td>QC</td>\n",
       "      <td>28.02</td>\n",
       "      <td>0.0</td>\n",
       "    </tr>\n",
       "    <tr>\n",
       "      <th>4</th>\n",
       "      <td>Packing</td>\n",
       "      <td>15.79</td>\n",
       "      <td>0.0</td>\n",
       "    </tr>\n",
       "  </tbody>\n",
       "</table>\n",
       "</div>"
      ],
      "text/plain": [
       "        Dept     HC    OT\n",
       "0  Receiving  24.00   0.0\n",
       "1    Picking  13.24  35.8\n",
       "2   PPicking  10.95   0.0\n",
       "3         QC  28.02   0.0\n",
       "4    Packing  15.79   0.0"
      ]
     },
     "execution_count": 6,
     "metadata": {},
     "output_type": "execute_result"
    },
    {
     "data": {
      "application/javascript": [
       "\n",
       "            setTimeout(function() {\n",
       "                var nbb_cell_id = 6;\n",
       "                var nbb_unformatted_code = \"output = df[[\\\"Dept\\\"]].copy()\\noutput[\\\"HC\\\"] = [HOUR_COUNT[i].varValue for i in df.index]\\noutput[\\\"OT\\\"] = [OVERTIME[i].varValue for i in df.index]\\n\\noutput.round(2)\";\n",
       "                var nbb_formatted_code = \"output = df[[\\\"Dept\\\"]].copy()\\noutput[\\\"HC\\\"] = [HOUR_COUNT[i].varValue for i in df.index]\\noutput[\\\"OT\\\"] = [OVERTIME[i].varValue for i in df.index]\\n\\noutput.round(2)\";\n",
       "                var nbb_cells = Jupyter.notebook.get_cells();\n",
       "                for (var i = 0; i < nbb_cells.length; ++i) {\n",
       "                    if (nbb_cells[i].input_prompt_number == nbb_cell_id) {\n",
       "                        if (nbb_cells[i].get_text() == nbb_unformatted_code) {\n",
       "                             nbb_cells[i].set_text(nbb_formatted_code);\n",
       "                        }\n",
       "                        break;\n",
       "                    }\n",
       "                }\n",
       "            }, 500);\n",
       "            "
      ],
      "text/plain": [
       "<IPython.core.display.Javascript object>"
      ]
     },
     "metadata": {},
     "output_type": "display_data"
    }
   ],
   "source": [
    "output = df[[\"Dept\"]].copy()\n",
    "output[\"HC\"] = [HOUR_COUNT[i].varValue for i in df.index]\n",
    "output[\"OT\"] = [OVERTIME[i].varValue for i in df.index]\n",
    "\n",
    "output.round(2)"
   ]
  }
 ],
 "metadata": {
  "kernelspec": {
   "display_name": "Python 3",
   "language": "python",
   "name": "python3"
  },
  "language_info": {
   "codemirror_mode": {
    "name": "ipython",
    "version": 3
   },
   "file_extension": ".py",
   "mimetype": "text/x-python",
   "name": "python",
   "nbconvert_exporter": "python",
   "pygments_lexer": "ipython3",
   "version": "3.7.7"
  }
 },
 "nbformat": 4,
 "nbformat_minor": 2
}
