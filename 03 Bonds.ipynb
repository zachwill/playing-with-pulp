{
 "cells": [
  {
   "cell_type": "markdown",
   "metadata": {},
   "source": [
    "https://www.ima.umn.edu/materials/2017-2018.2/W8.21-25.17/26306/PythonModeling.pdf"
   ]
  },
  {
   "cell_type": "code",
   "execution_count": 1,
   "metadata": {},
   "outputs": [],
   "source": [
    "from pulp import LpProblem, LpVariable, lpSum, LpMinimize, LpMaximize, value"
   ]
  },
  {
   "cell_type": "code",
   "execution_count": 2,
   "metadata": {},
   "outputs": [],
   "source": [
    "bonds = {\n",
    "    \"A\": {\n",
    "        \"yield\": 4,\n",
    "        \"rating\": 2,\n",
    "        \"maturity\": 3,\n",
    "    },\n",
    "    \"B\": {\n",
    "        \"yield\": 3,\n",
    "        \"rating\": 1,\n",
    "        \"maturity\": 4,\n",
    "    },\n",
    "}\n",
    "\n",
    "max_cash = 100\n",
    "max_rating = 1.5\n",
    "max_maturity = 3.6"
   ]
  },
  {
   "cell_type": "code",
   "execution_count": 3,
   "metadata": {},
   "outputs": [
    {
     "name": "stdout",
     "output_type": "stream",
     "text": [
      "Optimal purchases:\n",
      "Bond A : 50.0\n",
      "Bond B : 50.0\n"
     ]
    },
    {
     "name": "stderr",
     "output_type": "stream",
     "text": [
      "/usr/local/lib/python3.7/site-packages/pulp/pulp.py:1137: UserWarning: Spaces are not permitted in the name. Converted to '_'\n",
      "  warnings.warn(\"Spaces are not permitted in the name. Converted to '_'\")\n"
     ]
    }
   ],
   "source": [
    "prob = LpProblem(\"Bond Selection\", LpMaximize)\n",
    "\n",
    "buy = LpVariable.dicts(\"bonds\", bonds.keys(), 0, None)\n",
    "\n",
    "prob += lpSum(bonds[b][\"yield\"] * buy[b] for b in bonds)\n",
    "prob += lpSum(buy[b] for b in bonds) <= max_cash, \"cash\"\n",
    "prob += lpSum(bonds[b][\"rating\"] * buy[b] for b in bonds) <= max_cash * max_rating, \"ratings\"\n",
    "prob += lpSum(bonds[b][\"maturity\"] * buy[b] for b in bonds) <= max_cash * max_maturity, \"maturities\"\n",
    "\n",
    "prob.solve()\n",
    "\n",
    "epsilon = .001\n",
    "\n",
    "print(\"Optimal purchases...\")\n",
    "for i in bonds:\n",
    "    if buy[i].varValue > epsilon:\n",
    "        print(\"Bond\", i, \":\", buy[i].varValue)"
   ]
  },
  {
   "cell_type": "code",
   "execution_count": 4,
   "metadata": {},
   "outputs": [
    {
     "data": {
      "text/plain": [
       "<bound method LpProblem.variables of Bond_Selection:\n",
       "MAXIMIZE\n",
       "4*bonds_A + 3*bonds_B + 0\n",
       "SUBJECT TO\n",
       "cash: bonds_A + bonds_B <= 100\n",
       "\n",
       "ratings: 2 bonds_A + bonds_B <= 150\n",
       "\n",
       "maturities: 3 bonds_A + 4 bonds_B <= 360\n",
       "\n",
       "VARIABLES\n",
       "bonds_A Continuous\n",
       "bonds_B Continuous\n",
       ">"
      ]
     },
     "execution_count": 4,
     "metadata": {},
     "output_type": "execute_result"
    }
   ],
   "source": [
    "prob.variables"
   ]
  }
 ],
 "metadata": {
  "kernelspec": {
   "display_name": "Python 3",
   "language": "python",
   "name": "python3"
  },
  "language_info": {
   "codemirror_mode": {
    "name": "ipython",
    "version": 3
   },
   "file_extension": ".py",
   "mimetype": "text/x-python",
   "name": "python",
   "nbconvert_exporter": "python",
   "pygments_lexer": "ipython3",
   "version": "3.7.7"
  }
 },
 "nbformat": 4,
 "nbformat_minor": 2
}
