{
 "cells": [
  {
   "cell_type": "markdown",
   "metadata": {},
   "source": [
    "__Diet Problem__\n",
    "\n",
    "https://web.mit.edu/15.053/www/Excel_Solver.pdf"
   ]
  },
  {
   "cell_type": "code",
   "execution_count": 1,
   "metadata": {},
   "outputs": [],
   "source": [
    "import pandas as pd\n",
    "\n",
    "from pulp import LpProblem, LpStatus, LpVariable, LpAffineExpression\n",
    "from pulp import LpBinary, LpMinimize, LpMaximize, lpSum, value"
   ]
  },
  {
   "cell_type": "code",
   "execution_count": 2,
   "metadata": {},
   "outputs": [
    {
     "data": {
      "text/html": [
       "<div>\n",
       "<style scoped>\n",
       "    .dataframe tbody tr th:only-of-type {\n",
       "        vertical-align: middle;\n",
       "    }\n",
       "\n",
       "    .dataframe tbody tr th {\n",
       "        vertical-align: top;\n",
       "    }\n",
       "\n",
       "    .dataframe thead th {\n",
       "        text-align: right;\n",
       "    }\n",
       "</style>\n",
       "<table border=\"1\" class=\"dataframe\">\n",
       "  <thead>\n",
       "    <tr style=\"text-align: right;\">\n",
       "      <th></th>\n",
       "      <th>food</th>\n",
       "      <th>profit</th>\n",
       "      <th>cooking</th>\n",
       "      <th>packaging</th>\n",
       "      <th>delivery</th>\n",
       "    </tr>\n",
       "  </thead>\n",
       "  <tbody>\n",
       "    <tr>\n",
       "      <th>0</th>\n",
       "      <td>Hummus</td>\n",
       "      <td>6.0</td>\n",
       "      <td>0.100</td>\n",
       "      <td>0.050</td>\n",
       "      <td>0.033</td>\n",
       "    </tr>\n",
       "    <tr>\n",
       "      <th>1</th>\n",
       "      <td>Moussaka</td>\n",
       "      <td>10.0</td>\n",
       "      <td>0.200</td>\n",
       "      <td>0.067</td>\n",
       "      <td>0.067</td>\n",
       "    </tr>\n",
       "    <tr>\n",
       "      <th>2</th>\n",
       "      <td>Tabouleh</td>\n",
       "      <td>4.5</td>\n",
       "      <td>0.067</td>\n",
       "      <td>0.040</td>\n",
       "      <td>0.033</td>\n",
       "    </tr>\n",
       "  </tbody>\n",
       "</table>\n",
       "</div>"
      ],
      "text/plain": [
       "       food  profit  cooking  packaging  delivery\n",
       "0    Hummus     6.0    0.100      0.050     0.033\n",
       "1  Moussaka    10.0    0.200      0.067     0.067\n",
       "2  Tabouleh     4.5    0.067      0.040     0.033"
      ]
     },
     "execution_count": 2,
     "metadata": {},
     "output_type": "execute_result"
    }
   ],
   "source": [
    "df = pd.DataFrame(\n",
    "    [\n",
    "        [\"Hummus\", 6, 0.1, 0.05, 0.033],\n",
    "        [\"Moussaka\", 10, 0.2, 0.067, 0.067],\n",
    "        [\"Tabouleh\", 4.5, 0.067, 0.04, 0.033],\n",
    "    ],\n",
    "    columns=[\"food\", \"profit\", \"cooking\", \"packaging\", \"delivery\"],\n",
    ")\n",
    "\n",
    "df"
   ]
  },
  {
   "cell_type": "code",
   "execution_count": 3,
   "metadata": {},
   "outputs": [],
   "source": [
    "cooking = dict(zip(df.food, df.cooking))\n",
    "packaging = dict(zip(df.food, df.packaging))\n",
    "delivery = dict(zip(df.food, df.delivery))\n",
    "\n",
    "profit = dict(zip(df.food, df.profit))\n",
    "\n",
    "food_vars = LpVariable.dict(\"food_vars\", df.food.values, lowBound=0, cat=\"Integer\")"
   ]
  },
  {
   "cell_type": "code",
   "execution_count": 9,
   "metadata": {},
   "outputs": [],
   "source": [
    "model = LpProblem(\"Food Start-Up\", LpMaximize)\n",
    "\n",
    "# Objective function\n",
    "model += lpSum([profit[food] * food_vars[food] for food in df.food])\n",
    "\n",
    "# Constraints\n",
    "model += (\n",
    "    lpSum([cooking[food] * food_vars[food] for food in df.food]) <= 4,\n",
    "    \"Total cooking time\",\n",
    ")\n",
    "model += (\n",
    "    lpSum([packaging[food] * food_vars[food] for food in df.food]) <= 2,\n",
    "    \"Total packaging time\",\n",
    ")\n",
    "model += (\n",
    "    lpSum([delivery[food] * food_vars[food] for food in df.food]) <= 2,\n",
    "    \"Total delivery time\",\n",
    ")\n",
    "\n",
    "# We can only make 30 tabouleh orders\n",
    "model += food_vars[\"Tabouleh\"] <= 30"
   ]
  },
  {
   "cell_type": "code",
   "execution_count": 10,
   "metadata": {},
   "outputs": [
    {
     "data": {
      "text/plain": [
       "'Optimal'"
      ]
     },
     "execution_count": 10,
     "metadata": {},
     "output_type": "execute_result"
    }
   ],
   "source": [
    "results = model.solve()\n",
    "\n",
    "LpStatus[model.status]"
   ]
  },
  {
   "cell_type": "code",
   "execution_count": 11,
   "metadata": {},
   "outputs": [
    {
     "data": {
      "text/html": [
       "<div>\n",
       "<style scoped>\n",
       "    .dataframe tbody tr th:only-of-type {\n",
       "        vertical-align: middle;\n",
       "    }\n",
       "\n",
       "    .dataframe tbody tr th {\n",
       "        vertical-align: top;\n",
       "    }\n",
       "\n",
       "    .dataframe thead th {\n",
       "        text-align: right;\n",
       "    }\n",
       "</style>\n",
       "<table border=\"1\" class=\"dataframe\">\n",
       "  <thead>\n",
       "    <tr style=\"text-align: right;\">\n",
       "      <th></th>\n",
       "      <th>food</th>\n",
       "      <th>profit</th>\n",
       "      <th>orders</th>\n",
       "    </tr>\n",
       "  </thead>\n",
       "  <tbody>\n",
       "    <tr>\n",
       "      <th>0</th>\n",
       "      <td>Hummus</td>\n",
       "      <td>6.0</td>\n",
       "      <td>17.0</td>\n",
       "    </tr>\n",
       "    <tr>\n",
       "      <th>1</th>\n",
       "      <td>Moussaka</td>\n",
       "      <td>10.0</td>\n",
       "      <td>4.0</td>\n",
       "    </tr>\n",
       "    <tr>\n",
       "      <th>2</th>\n",
       "      <td>Tabouleh</td>\n",
       "      <td>4.5</td>\n",
       "      <td>22.0</td>\n",
       "    </tr>\n",
       "  </tbody>\n",
       "</table>\n",
       "</div>"
      ],
      "text/plain": [
       "       food  profit  orders\n",
       "0    Hummus     6.0    17.0\n",
       "1  Moussaka    10.0     4.0\n",
       "2  Tabouleh     4.5    22.0"
      ]
     },
     "execution_count": 11,
     "metadata": {},
     "output_type": "execute_result"
    }
   ],
   "source": [
    "output = df[[\"food\", \"profit\"]].copy()\n",
    "output[\"orders\"] = [food_vars[food].value() for food in df.food]\n",
    "\n",
    "output"
   ]
  },
  {
   "cell_type": "code",
   "execution_count": 12,
   "metadata": {},
   "outputs": [
    {
     "data": {
      "text/plain": [
       "241.0"
      ]
     },
     "execution_count": 12,
     "metadata": {},
     "output_type": "execute_result"
    }
   ],
   "source": [
    "(output.profit * output.orders).sum()"
   ]
  }
 ],
 "metadata": {
  "kernelspec": {
   "display_name": "Python 3",
   "language": "python",
   "name": "python3"
  },
  "language_info": {
   "codemirror_mode": {
    "name": "ipython",
    "version": 3
   },
   "file_extension": ".py",
   "mimetype": "text/x-python",
   "name": "python",
   "nbconvert_exporter": "python",
   "pygments_lexer": "ipython3",
   "version": "3.7.7"
  }
 },
 "nbformat": 4,
 "nbformat_minor": 2
}
